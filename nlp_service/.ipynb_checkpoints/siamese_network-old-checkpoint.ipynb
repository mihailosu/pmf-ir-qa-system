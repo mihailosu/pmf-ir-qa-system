{
 "cells": [
  {
   "cell_type": "code",
   "execution_count": 1,
   "id": "69db75f7-9d63-4d45-b724-2f5f30ab0a6b",
   "metadata": {},
   "outputs": [
    {
     "name": "stderr",
     "output_type": "stream",
     "text": [
      "2024-08-11 01:21:36.125669: I tensorflow/core/platform/cpu_feature_guard.cc:193] This TensorFlow binary is optimized with oneAPI Deep Neural Network Library (oneDNN) to use the following CPU instructions in performance-critical operations:  AVX2 FMA\n",
      "To enable them in other operations, rebuild TensorFlow with the appropriate compiler flags.\n",
      "/Users/radoman2/Desktop/pmf-projekat/env/lib/python3.9/site-packages/urllib3/__init__.py:35: NotOpenSSLWarning: urllib3 v2 only supports OpenSSL 1.1.1+, currently the 'ssl' module is compiled with 'LibreSSL 2.8.3'. See: https://github.com/urllib3/urllib3/issues/3020\n",
      "  warnings.warn(\n"
     ]
    }
   ],
   "source": [
    "import tensorflow as tf"
   ]
  },
  {
   "cell_type": "code",
   "execution_count": 2,
   "id": "2c44e7a3-750e-41d4-922f-83feada5b142",
   "metadata": {},
   "outputs": [],
   "source": [
    "import pandas as pd\n",
    "import numpy as np"
   ]
  },
  {
   "cell_type": "markdown",
   "id": "44270d7f-c9a9-45d6-9022-d97aa194914d",
   "metadata": {},
   "source": [
    "### Loading dataset"
   ]
  },
  {
   "cell_type": "code",
   "execution_count": 3,
   "id": "4d158489-b79e-41a3-b7e7-34c993aceb2f",
   "metadata": {},
   "outputs": [],
   "source": [
    "training_dataset = pd.read_csv('output/training_dataset_final.csv')"
   ]
  },
  {
   "cell_type": "code",
   "execution_count": 4,
   "id": "b06a84f1-c3f7-4156-a453-292e707cf5cd",
   "metadata": {},
   "outputs": [
    {
     "data": {
      "text/html": [
       "<div>\n",
       "<style scoped>\n",
       "    .dataframe tbody tr th:only-of-type {\n",
       "        vertical-align: middle;\n",
       "    }\n",
       "\n",
       "    .dataframe tbody tr th {\n",
       "        vertical-align: top;\n",
       "    }\n",
       "\n",
       "    .dataframe thead th {\n",
       "        text-align: right;\n",
       "    }\n",
       "</style>\n",
       "<table border=\"1\" class=\"dataframe\">\n",
       "  <thead>\n",
       "    <tr style=\"text-align: right;\">\n",
       "      <th></th>\n",
       "      <th>Question</th>\n",
       "      <th>Similar/Dissimilar</th>\n",
       "      <th>Output</th>\n",
       "    </tr>\n",
       "  </thead>\n",
       "  <tbody>\n",
       "    <tr>\n",
       "      <th>0</th>\n",
       "      <td>Where Do You Get Disability Insurance?</td>\n",
       "      <td>Is Long Term Disability Insurance The Same As ...</td>\n",
       "      <td>0</td>\n",
       "    </tr>\n",
       "    <tr>\n",
       "      <th>1</th>\n",
       "      <td>Does Each Tenant Need Renters Insurance?</td>\n",
       "      <td>Does Your Spouse Have To Be Your Beneficiary F...</td>\n",
       "      <td>0</td>\n",
       "    </tr>\n",
       "    <tr>\n",
       "      <th>2</th>\n",
       "      <td>Can Life Insurance Refuse To Pay?</td>\n",
       "      <td>How Much Is Enough Auto Insurance Coverage?</td>\n",
       "      <td>0</td>\n",
       "    </tr>\n",
       "    <tr>\n",
       "      <th>3</th>\n",
       "      <td>Does Long Term Care Insurance Cover Assisted L...</td>\n",
       "      <td>Is Long Term Care Insurance Regulated?</td>\n",
       "      <td>0</td>\n",
       "    </tr>\n",
       "    <tr>\n",
       "      <th>4</th>\n",
       "      <td>How Do I Choose A Medigap Plan?</td>\n",
       "      <td>Can You Change From Medicare Advantage To Medi...</td>\n",
       "      <td>0</td>\n",
       "    </tr>\n",
       "    <tr>\n",
       "      <th>...</th>\n",
       "      <td>...</td>\n",
       "      <td>...</td>\n",
       "      <td>...</td>\n",
       "    </tr>\n",
       "    <tr>\n",
       "      <th>195</th>\n",
       "      <td>What To Look For In A Good Health Insurance Plan?</td>\n",
       "      <td>What Qualifies As A Quality Health Insurance P...</td>\n",
       "      <td>1</td>\n",
       "    </tr>\n",
       "    <tr>\n",
       "      <th>196</th>\n",
       "      <td>Does Suze Orman Hate Whole Life Insurance?</td>\n",
       "      <td>Is Whole Life Insurance Something Suze Orman H...</td>\n",
       "      <td>1</td>\n",
       "    </tr>\n",
       "    <tr>\n",
       "      <th>197</th>\n",
       "      <td>How Much Does It Cost To Add A Named Driver To...</td>\n",
       "      <td>What Is The Price Of Adding A Named Driver To ...</td>\n",
       "      <td>1</td>\n",
       "    </tr>\n",
       "    <tr>\n",
       "      <th>198</th>\n",
       "      <td>Is Disability Insurance The Same As Workers Co...</td>\n",
       "      <td>Is Workers Compensation and Disability Insuran...</td>\n",
       "      <td>1</td>\n",
       "    </tr>\n",
       "    <tr>\n",
       "      <th>199</th>\n",
       "      <td>When Was Universal Life Insurance Created?</td>\n",
       "      <td>When was the creation of universal life insura...</td>\n",
       "      <td>1</td>\n",
       "    </tr>\n",
       "  </tbody>\n",
       "</table>\n",
       "<p>200 rows × 3 columns</p>\n",
       "</div>"
      ],
      "text/plain": [
       "                                              Question  \\\n",
       "0               Where Do You Get Disability Insurance?   \n",
       "1             Does Each Tenant Need Renters Insurance?   \n",
       "2                    Can Life Insurance Refuse To Pay?   \n",
       "3    Does Long Term Care Insurance Cover Assisted L...   \n",
       "4                      How Do I Choose A Medigap Plan?   \n",
       "..                                                 ...   \n",
       "195  What To Look For In A Good Health Insurance Plan?   \n",
       "196         Does Suze Orman Hate Whole Life Insurance?   \n",
       "197  How Much Does It Cost To Add A Named Driver To...   \n",
       "198  Is Disability Insurance The Same As Workers Co...   \n",
       "199         When Was Universal Life Insurance Created?   \n",
       "\n",
       "                                    Similar/Dissimilar  Output  \n",
       "0    Is Long Term Disability Insurance The Same As ...       0  \n",
       "1    Does Your Spouse Have To Be Your Beneficiary F...       0  \n",
       "2          How Much Is Enough Auto Insurance Coverage?       0  \n",
       "3               Is Long Term Care Insurance Regulated?       0  \n",
       "4    Can You Change From Medicare Advantage To Medi...       0  \n",
       "..                                                 ...     ...  \n",
       "195  What Qualifies As A Quality Health Insurance P...       1  \n",
       "196  Is Whole Life Insurance Something Suze Orman H...       1  \n",
       "197  What Is The Price Of Adding A Named Driver To ...       1  \n",
       "198  Is Workers Compensation and Disability Insuran...       1  \n",
       "199  When was the creation of universal life insura...       1  \n",
       "\n",
       "[200 rows x 3 columns]"
      ]
     },
     "execution_count": 4,
     "metadata": {},
     "output_type": "execute_result"
    }
   ],
   "source": [
    "training_dataset"
   ]
  },
  {
   "cell_type": "markdown",
   "id": "001d3566-a059-40a4-a5f0-dbe907d03d74",
   "metadata": {},
   "source": [
    "### Reshuffling our dataset"
   ]
  },
  {
   "cell_type": "code",
   "execution_count": 5,
   "id": "d16c4fdd-9b2a-4a96-9b70-6b2bd2ca652a",
   "metadata": {},
   "outputs": [],
   "source": [
    "training_dataset = training_dataset.sample(frac=1, random_state=6).reset_index(drop=True)"
   ]
  },
  {
   "cell_type": "code",
   "execution_count": 6,
   "id": "736c1763-1887-44f4-b241-a971b11ecf63",
   "metadata": {},
   "outputs": [
    {
     "data": {
      "text/html": [
       "<div>\n",
       "<style scoped>\n",
       "    .dataframe tbody tr th:only-of-type {\n",
       "        vertical-align: middle;\n",
       "    }\n",
       "\n",
       "    .dataframe tbody tr th {\n",
       "        vertical-align: top;\n",
       "    }\n",
       "\n",
       "    .dataframe thead th {\n",
       "        text-align: right;\n",
       "    }\n",
       "</style>\n",
       "<table border=\"1\" class=\"dataframe\">\n",
       "  <thead>\n",
       "    <tr style=\"text-align: right;\">\n",
       "      <th></th>\n",
       "      <th>Question</th>\n",
       "      <th>Similar/Dissimilar</th>\n",
       "      <th>Output</th>\n",
       "    </tr>\n",
       "  </thead>\n",
       "  <tbody>\n",
       "    <tr>\n",
       "      <th>0</th>\n",
       "      <td>How Much Can You Borrow From Your Life Insuran...</td>\n",
       "      <td>How much of your life insurance policy may you...</td>\n",
       "      <td>1</td>\n",
       "    </tr>\n",
       "    <tr>\n",
       "      <th>1</th>\n",
       "      <td>Can I Get Life Insurance If I Have Lung Cancer?</td>\n",
       "      <td>Can The IRS Go After Life Insurance Proceeds?</td>\n",
       "      <td>0</td>\n",
       "    </tr>\n",
       "    <tr>\n",
       "      <th>2</th>\n",
       "      <td>Does Medicaid Pay Part B Of Medicare?</td>\n",
       "      <td>Does Medicaid Cover Medicare Part B?</td>\n",
       "      <td>1</td>\n",
       "    </tr>\n",
       "    <tr>\n",
       "      <th>3</th>\n",
       "      <td>Does Health Insurance Increase With Age?</td>\n",
       "      <td>Does Age Affect the Cost of Health Insurance?</td>\n",
       "      <td>1</td>\n",
       "    </tr>\n",
       "    <tr>\n",
       "      <th>4</th>\n",
       "      <td>How Much Life Insurance Should You Carry?</td>\n",
       "      <td>What Level of Life Insurance Is Adequate?</td>\n",
       "      <td>1</td>\n",
       "    </tr>\n",
       "    <tr>\n",
       "      <th>...</th>\n",
       "      <td>...</td>\n",
       "      <td>...</td>\n",
       "      <td>...</td>\n",
       "    </tr>\n",
       "    <tr>\n",
       "      <th>195</th>\n",
       "      <td>Is Disability Insurance The Same As Workers Co...</td>\n",
       "      <td>Is Workers Compensation and Disability Insuran...</td>\n",
       "      <td>1</td>\n",
       "    </tr>\n",
       "    <tr>\n",
       "      <th>196</th>\n",
       "      <td>How Much To Budget For Homeowners Insurance?</td>\n",
       "      <td>What Is Good Renters Insurance?</td>\n",
       "      <td>0</td>\n",
       "    </tr>\n",
       "    <tr>\n",
       "      <th>197</th>\n",
       "      <td>Why Is Boys Car Insurance Higher?</td>\n",
       "      <td>Why Does Boy's Auto Insurance Cost More?</td>\n",
       "      <td>1</td>\n",
       "    </tr>\n",
       "    <tr>\n",
       "      <th>198</th>\n",
       "      <td>How Much Does Life Insurance Typically Cost?</td>\n",
       "      <td>How Much Is The Average Cost of Life Insurance?</td>\n",
       "      <td>1</td>\n",
       "    </tr>\n",
       "    <tr>\n",
       "      <th>199</th>\n",
       "      <td>Who Sells Short Term Disability Insurance?</td>\n",
       "      <td>Who Offers Insurance for Short-Term Disability?</td>\n",
       "      <td>1</td>\n",
       "    </tr>\n",
       "  </tbody>\n",
       "</table>\n",
       "<p>200 rows × 3 columns</p>\n",
       "</div>"
      ],
      "text/plain": [
       "                                              Question  \\\n",
       "0    How Much Can You Borrow From Your Life Insuran...   \n",
       "1      Can I Get Life Insurance If I Have Lung Cancer?   \n",
       "2                Does Medicaid Pay Part B Of Medicare?   \n",
       "3             Does Health Insurance Increase With Age?   \n",
       "4            How Much Life Insurance Should You Carry?   \n",
       "..                                                 ...   \n",
       "195  Is Disability Insurance The Same As Workers Co...   \n",
       "196       How Much To Budget For Homeowners Insurance?   \n",
       "197                  Why Is Boys Car Insurance Higher?   \n",
       "198       How Much Does Life Insurance Typically Cost?   \n",
       "199         Who Sells Short Term Disability Insurance?   \n",
       "\n",
       "                                    Similar/Dissimilar  Output  \n",
       "0    How much of your life insurance policy may you...       1  \n",
       "1        Can The IRS Go After Life Insurance Proceeds?       0  \n",
       "2                 Does Medicaid Cover Medicare Part B?       1  \n",
       "3        Does Age Affect the Cost of Health Insurance?       1  \n",
       "4            What Level of Life Insurance Is Adequate?       1  \n",
       "..                                                 ...     ...  \n",
       "195  Is Workers Compensation and Disability Insuran...       1  \n",
       "196                    What Is Good Renters Insurance?       0  \n",
       "197           Why Does Boy's Auto Insurance Cost More?       1  \n",
       "198    How Much Is The Average Cost of Life Insurance?       1  \n",
       "199    Who Offers Insurance for Short-Term Disability?       1  \n",
       "\n",
       "[200 rows x 3 columns]"
      ]
     },
     "execution_count": 6,
     "metadata": {},
     "output_type": "execute_result"
    }
   ],
   "source": [
    "training_dataset"
   ]
  },
  {
   "cell_type": "markdown",
   "id": "b5e61578-b897-4cfa-a457-fd8e62245c0d",
   "metadata": {},
   "source": [
    "### Data split"
   ]
  },
  {
   "cell_type": "code",
   "execution_count": 7,
   "id": "6a9927fd-c33c-4be4-81d3-da944e8d6b7c",
   "metadata": {},
   "outputs": [],
   "source": [
    "#from sklearn.model_selection import train_test_split"
   ]
  },
  {
   "cell_type": "code",
   "execution_count": 8,
   "id": "1f2fc5ae-a60c-44e0-ac41-7384fb842c89",
   "metadata": {},
   "outputs": [],
   "source": [
    "#train_df, test_df = train_test_split(training_dataset, test_size=0.2, random_state=6)\n",
    "\n",
    "#print(len(train_df))\n",
    "# print(len(test_df))"
   ]
  },
  {
   "cell_type": "markdown",
   "id": "88df4ee4-e2ce-4bcb-8ed8-188bc8e7f498",
   "metadata": {},
   "source": [
    "### Cross validation"
   ]
  },
  {
   "cell_type": "code",
   "execution_count": 9,
   "id": "3c21a4f7-3b5e-4e72-9cc1-ed14e84116a4",
   "metadata": {},
   "outputs": [],
   "source": [
    "from sklearn.model_selection import StratifiedShuffleSplit"
   ]
  },
  {
   "cell_type": "code",
   "execution_count": 10,
   "id": "93b1cb18-dcd1-4766-b57a-a05e3476d2c8",
   "metadata": {},
   "outputs": [],
   "source": [
    "sss = StratifiedShuffleSplit(n_splits=1, test_size=0.01, random_state=6)\n",
    "train_index, valid_index = list(sss.split(training_dataset[['Question', 'Similar/Dissimilar']].values, training_dataset['Output']))[0]"
   ]
  },
  {
   "cell_type": "code",
   "execution_count": 11,
   "id": "11a4bab5-4e31-40c1-af42-8fd3dff61bc5",
   "metadata": {},
   "outputs": [],
   "source": [
    "from sklearn.metrics import confusion_matrix, classification_report"
   ]
  },
  {
   "cell_type": "code",
   "execution_count": 12,
   "id": "2ff7d165-b1d0-49bc-b13f-29066d2287ee",
   "metadata": {},
   "outputs": [],
   "source": [
    "def evaluate_model(model, x_train, x_valid, y_train, y_valid):\n",
    "    print('Train Set:')\n",
    "    print()\n",
    "    print(classification_report(y_train, model.predict(x_train)))\n",
    "    \n",
    "    print()\n",
    "    print()\n",
    "    \n",
    "    print('Validation Set:')\n",
    "    print()\n",
    "    print(classification_report(y_valid, model.predict(x_valid)))"
   ]
  },
  {
   "cell_type": "markdown",
   "id": "5a000b7c-a7a0-4d66-b42c-05bd8050294f",
   "metadata": {},
   "source": [
    "### Vectorization"
   ]
  },
  {
   "cell_type": "code",
   "execution_count": 13,
   "id": "0273b6ae-e5a7-4922-810d-0d7028b02b8e",
   "metadata": {},
   "outputs": [],
   "source": [
    "from sklearn.feature_extraction.text import TfidfVectorizer"
   ]
  },
  {
   "cell_type": "code",
   "execution_count": 14,
   "id": "d0a7db2f-8748-46c4-b89f-cba14e93722f",
   "metadata": {},
   "outputs": [],
   "source": [
    "vectorizer = TfidfVectorizer(\n",
    "    ngram_range=(1, 1),\n",
    "    min_df=1,\n",
    "    max_df=1.0,\n",
    "    sublinear_tf=True\n",
    ").fit(training_dataset['Question'].fillna('').values)"
   ]
  },
  {
   "cell_type": "code",
   "execution_count": 15,
   "id": "3c5f874b-67d3-491a-bfdb-489a23e87c6e",
   "metadata": {},
   "outputs": [
    {
     "data": {
      "text/plain": [
       "((198,), (2,))"
      ]
     },
     "execution_count": 15,
     "metadata": {},
     "output_type": "execute_result"
    }
   ],
   "source": [
    "x_train = training_dataset[['Question', 'Similar/Dissimilar']].iloc[train_index].reset_index(drop=True)\n",
    "x_valid = training_dataset[['Question', 'Similar/Dissimilar']].iloc[valid_index].reset_index(drop=True)\n",
    "\n",
    "y_train = training_dataset['Output'].iloc[train_index].reset_index(drop=True).values\n",
    "y_valid = training_dataset['Output'].iloc[valid_index].reset_index(drop=True).values\n",
    "\n",
    "y_train.shape, y_valid.shape"
   ]
  },
  {
   "cell_type": "code",
   "execution_count": 16,
   "id": "2ae6dfa2-d026-45aa-9fa6-50834314b534",
   "metadata": {},
   "outputs": [],
   "source": [
    "def sparse_tensor(X):\n",
    "    coo = X.tocoo()\n",
    "    indices = np.mat([coo.row, coo.col]).transpose()\n",
    "    return tf.sparse.reorder(tf.SparseTensor(indices, coo.data, coo.shape))"
   ]
  },
  {
   "cell_type": "code",
   "execution_count": 17,
   "id": "6f5b2e7b-ab1e-43c7-93c7-d66c4dbf6cba",
   "metadata": {},
   "outputs": [],
   "source": [
    "from scipy import sparse"
   ]
  },
  {
   "cell_type": "code",
   "execution_count": 18,
   "id": "2ed46360-2fa2-4060-a4ca-4756e8b82fdb",
   "metadata": {},
   "outputs": [
    {
     "name": "stderr",
     "output_type": "stream",
     "text": [
      "2024-08-11 01:21:43.179192: I tensorflow/core/platform/cpu_feature_guard.cc:193] This TensorFlow binary is optimized with oneAPI Deep Neural Network Library (oneDNN) to use the following CPU instructions in performance-critical operations:  AVX2 FMA\n",
      "To enable them in other operations, rebuild TensorFlow with the appropriate compiler flags.\n"
     ]
    },
    {
     "data": {
      "text/plain": [
       "(TensorShape([198, 221]), TensorShape([2, 221]), TensorShape([200, 221]))"
      ]
     },
     "execution_count": 18,
     "metadata": {},
     "output_type": "execute_result"
    }
   ],
   "source": [
    "x_train_1 = vectorizer.transform(x_train['Question'].fillna(''))\n",
    "x_train_2 = vectorizer.transform(x_train['Similar/Dissimilar'].fillna(''))\n",
    "\n",
    "x_valid_1 = vectorizer.transform(x_valid['Question'].fillna(''))\n",
    "x_valid_2 = vectorizer.transform(x_valid['Similar/Dissimilar'].fillna(''))\n",
    "\n",
    "x_test_1 = vectorizer.transform(training_dataset['Question'].fillna(''))\n",
    "x_test_2 = vectorizer.transform(training_dataset['Similar/Dissimilar'].fillna(''))\n",
    "\n",
    "x_train = [sparse_tensor(x_train_1), sparse_tensor(x_train_2)]\n",
    "x_valid = [sparse_tensor(x_valid_1), sparse_tensor(x_valid_2)]\n",
    "x_test = [sparse_tensor(x_test_1), sparse_tensor(x_test_2)]\n",
    "\n",
    "x = [\n",
    "    sparse_tensor(sparse.vstack([x_train_1, x_valid_1])), \n",
    "    sparse_tensor(sparse.vstack([x_train_2, x_valid_2]))\n",
    "]\n",
    "y = np.concatenate([y_train, y_valid])\n",
    "\n",
    "del x_train_1, x_train_2, x_valid_1, x_valid_2, x_test_1, x_test_2\n",
    "\n",
    "x_train[0].shape, x_valid[0].shape, x_test[0].shape"
   ]
  },
  {
   "cell_type": "markdown",
   "id": "185998ff-6fe0-4e35-aae4-d5c4a610723b",
   "metadata": {},
   "source": [
    "### Modeling"
   ]
  },
  {
   "cell_type": "code",
   "execution_count": 19,
   "id": "1c95ac57-0c75-4e24-af79-fed663f3d28f",
   "metadata": {},
   "outputs": [],
   "source": [
    "import tensorflow.keras.backend as K\n",
    "from tensorflow.keras.models import Model, Sequential\n",
    "from tensorflow.keras import layers, utils, callbacks, optimizers, regularizers"
   ]
  },
  {
   "cell_type": "code",
   "execution_count": 20,
   "id": "20ad00db-aa50-460c-bd69-7fba05860a81",
   "metadata": {},
   "outputs": [],
   "source": [
    "def euclidean_distance(vectors):\n",
    "    (featsA, featsB) = vectors\n",
    "    sumSquared = K.sum(K.square(featsA - featsB), axis=1, keepdims=True)\n",
    "    return K.sqrt(K.maximum(sumSquared, K.epsilon()))\n",
    "\n",
    "def cosine_similarity(vectors):\n",
    "    (featsA, featsB) = vectors\n",
    "    featsA = K.l2_normalize(featsA, axis=-1)\n",
    "    featsB = K.l2_normalize(featsB, axis=-1)\n",
    "    return K.mean(featsA * featsB, axis=-1, keepdims=True)"
   ]
  },
  {
   "cell_type": "code",
   "execution_count": 21,
   "id": "27630620-7f94-4d03-9927-e198b40fba53",
   "metadata": {},
   "outputs": [],
   "source": [
    "class SiameseNetwork(Model):\n",
    "    def __init__(self, inputShape, featExtractorConfig):\n",
    "        super(SiameseNetwork, self).__init__()\n",
    "        \n",
    "        inpA = layers.Input(shape=inputShape)\n",
    "        inpB = layers.Input(shape=inputShape)\n",
    "        featureExtractor = self.build_feature_extractor(inputShape, featExtractorConfig)\n",
    "        featsA = featureExtractor(inpA)\n",
    "        featsB = featureExtractor(inpB)\n",
    "        distance = layers.Concatenate()([featsA, featsB])\n",
    "        outputs = layers.Dense(1, activation=\"sigmoid\")(distance)\n",
    "        self.model = Model(inputs=[inpA, inpB], outputs=outputs)        \n",
    "        \n",
    "    def build_feature_extractor(self, inputShape, featExtractorConfig):\n",
    "        \n",
    "        layers_config = [layers.Input(inputShape)]\n",
    "        for i, n_units in enumerate(featExtractorConfig):\n",
    "            layers_config.append(layers.Dense(n_units))\n",
    "            layers_config.append(layers.Dropout(0.5))\n",
    "            layers_config.append(layers.BatchNormalization())\n",
    "            layers_config.append(layers.Activation('relu'))\n",
    "        \n",
    "        model = Sequential(layers_config, name='feature_extractor')\n",
    "\n",
    "        return model  \n",
    "        \n",
    "    def call(self, x):\n",
    "        return self.model(x)\n",
    "\n",
    "model = SiameseNetwork(inputShape=x_train[0].shape[1], featExtractorConfig=[100])\n",
    "model.compile(\n",
    "    loss=\"binary_crossentropy\", \n",
    "    optimizer=optimizers.Adam(learning_rate=0.0001),\n",
    "    metrics=[\"accuracy\"]\n",
    ")"
   ]
  },
  {
   "cell_type": "code",
   "execution_count": 22,
   "id": "d1960121-8a64-463a-87a9-aa9332727299",
   "metadata": {},
   "outputs": [
    {
     "name": "stdout",
     "output_type": "stream",
     "text": [
      "Model: \"feature_extractor\"\n",
      "_________________________________________________________________\n",
      " Layer (type)                Output Shape              Param #   \n",
      "=================================================================\n",
      " dense (Dense)               (None, 100)               22200     \n",
      "                                                                 \n",
      " dropout (Dropout)           (None, 100)               0         \n",
      "                                                                 \n",
      " batch_normalization (BatchN  (None, 100)              400       \n",
      " ormalization)                                                   \n",
      "                                                                 \n",
      " activation (Activation)     (None, 100)               0         \n",
      "                                                                 \n",
      "=================================================================\n",
      "Total params: 22,600\n",
      "Trainable params: 22,400\n",
      "Non-trainable params: 200\n",
      "_________________________________________________________________\n",
      "Model: \"model\"\n",
      "__________________________________________________________________________________________________\n",
      " Layer (type)                   Output Shape         Param #     Connected to                     \n",
      "==================================================================================================\n",
      " input_1 (InputLayer)           [(None, 221)]        0           []                               \n",
      "                                                                                                  \n",
      " input_2 (InputLayer)           [(None, 221)]        0           []                               \n",
      "                                                                                                  \n",
      " feature_extractor (Sequential)  (None, 100)         22600       ['input_1[0][0]',                \n",
      "                                                                  'input_2[0][0]']                \n",
      "                                                                                                  \n",
      " concatenate (Concatenate)      (None, 200)          0           ['feature_extractor[0][0]',      \n",
      "                                                                  'feature_extractor[1][0]']      \n",
      "                                                                                                  \n",
      " dense_1 (Dense)                (None, 1)            201         ['concatenate[0][0]']            \n",
      "                                                                                                  \n",
      "==================================================================================================\n",
      "Total params: 22,801\n",
      "Trainable params: 22,601\n",
      "Non-trainable params: 200\n",
      "__________________________________________________________________________________________________\n"
     ]
    },
    {
     "ename": "AttributeError",
     "evalue": "module 'pydot' has no attribute 'InvocationException'",
     "output_type": "error",
     "traceback": [
      "\u001b[0;31m---------------------------------------------------------------------------\u001b[0m",
      "\u001b[0;31mFileNotFoundError\u001b[0m                         Traceback (most recent call last)",
      "File \u001b[0;32m~/Desktop/pmf-projekat/env/lib/python3.9/site-packages/pydot/core.py:1799\u001b[0m, in \u001b[0;36mDot.create\u001b[0;34m(self, prog, format, encoding)\u001b[0m\n\u001b[1;32m   1798\u001b[0m \u001b[38;5;28;01mtry\u001b[39;00m:\n\u001b[0;32m-> 1799\u001b[0m     stdout_data, stderr_data, process \u001b[38;5;241m=\u001b[39m \u001b[43mcall_graphviz\u001b[49m\u001b[43m(\u001b[49m\n\u001b[1;32m   1800\u001b[0m \u001b[43m        \u001b[49m\u001b[43mprogram\u001b[49m\u001b[38;5;241;43m=\u001b[39;49m\u001b[43mprog\u001b[49m\u001b[43m,\u001b[49m\n\u001b[1;32m   1801\u001b[0m \u001b[43m        \u001b[49m\u001b[43marguments\u001b[49m\u001b[38;5;241;43m=\u001b[39;49m\u001b[43marguments\u001b[49m\u001b[43m,\u001b[49m\n\u001b[1;32m   1802\u001b[0m \u001b[43m        \u001b[49m\u001b[43mworking_dir\u001b[49m\u001b[38;5;241;43m=\u001b[39;49m\u001b[43mtmp_dir\u001b[49m\u001b[43m,\u001b[49m\n\u001b[1;32m   1803\u001b[0m \u001b[43m    \u001b[49m\u001b[43m)\u001b[49m\n\u001b[1;32m   1804\u001b[0m \u001b[38;5;28;01mexcept\u001b[39;00m \u001b[38;5;167;01mOSError\u001b[39;00m \u001b[38;5;28;01mas\u001b[39;00m e:\n",
      "File \u001b[0;32m~/Desktop/pmf-projekat/env/lib/python3.9/site-packages/pydot/core.py:222\u001b[0m, in \u001b[0;36mcall_graphviz\u001b[0;34m(program, arguments, working_dir, **kwargs)\u001b[0m\n\u001b[1;32m    220\u001b[0m program_with_args \u001b[38;5;241m=\u001b[39m [program] \u001b[38;5;241m+\u001b[39m arguments\n\u001b[0;32m--> 222\u001b[0m process \u001b[38;5;241m=\u001b[39m \u001b[43msubprocess\u001b[49m\u001b[38;5;241;43m.\u001b[39;49m\u001b[43mPopen\u001b[49m\u001b[43m(\u001b[49m\n\u001b[1;32m    223\u001b[0m \u001b[43m    \u001b[49m\u001b[43mprogram_with_args\u001b[49m\u001b[43m,\u001b[49m\n\u001b[1;32m    224\u001b[0m \u001b[43m    \u001b[49m\u001b[43menv\u001b[49m\u001b[38;5;241;43m=\u001b[39;49m\u001b[43menv\u001b[49m\u001b[43m,\u001b[49m\n\u001b[1;32m    225\u001b[0m \u001b[43m    \u001b[49m\u001b[43mcwd\u001b[49m\u001b[38;5;241;43m=\u001b[39;49m\u001b[43mworking_dir\u001b[49m\u001b[43m,\u001b[49m\n\u001b[1;32m    226\u001b[0m \u001b[43m    \u001b[49m\u001b[43mshell\u001b[49m\u001b[38;5;241;43m=\u001b[39;49m\u001b[38;5;28;43;01mFalse\u001b[39;49;00m\u001b[43m,\u001b[49m\n\u001b[1;32m    227\u001b[0m \u001b[43m    \u001b[49m\u001b[43mstderr\u001b[49m\u001b[38;5;241;43m=\u001b[39;49m\u001b[43msubprocess\u001b[49m\u001b[38;5;241;43m.\u001b[39;49m\u001b[43mPIPE\u001b[49m\u001b[43m,\u001b[49m\n\u001b[1;32m    228\u001b[0m \u001b[43m    \u001b[49m\u001b[43mstdout\u001b[49m\u001b[38;5;241;43m=\u001b[39;49m\u001b[43msubprocess\u001b[49m\u001b[38;5;241;43m.\u001b[39;49m\u001b[43mPIPE\u001b[49m\u001b[43m,\u001b[49m\n\u001b[1;32m    229\u001b[0m \u001b[43m    \u001b[49m\u001b[38;5;241;43m*\u001b[39;49m\u001b[38;5;241;43m*\u001b[39;49m\u001b[43mkwargs\u001b[49m\u001b[43m,\u001b[49m\n\u001b[1;32m    230\u001b[0m \u001b[43m\u001b[49m\u001b[43m)\u001b[49m\n\u001b[1;32m    231\u001b[0m stdout_data, stderr_data \u001b[38;5;241m=\u001b[39m process\u001b[38;5;241m.\u001b[39mcommunicate()\n",
      "File \u001b[0;32m/Library/Developer/CommandLineTools/Library/Frameworks/Python3.framework/Versions/3.9/lib/python3.9/subprocess.py:951\u001b[0m, in \u001b[0;36mPopen.__init__\u001b[0;34m(self, args, bufsize, executable, stdin, stdout, stderr, preexec_fn, close_fds, shell, cwd, env, universal_newlines, startupinfo, creationflags, restore_signals, start_new_session, pass_fds, user, group, extra_groups, encoding, errors, text, umask)\u001b[0m\n\u001b[1;32m    948\u001b[0m             \u001b[38;5;28mself\u001b[39m\u001b[38;5;241m.\u001b[39mstderr \u001b[38;5;241m=\u001b[39m io\u001b[38;5;241m.\u001b[39mTextIOWrapper(\u001b[38;5;28mself\u001b[39m\u001b[38;5;241m.\u001b[39mstderr,\n\u001b[1;32m    949\u001b[0m                     encoding\u001b[38;5;241m=\u001b[39mencoding, errors\u001b[38;5;241m=\u001b[39merrors)\n\u001b[0;32m--> 951\u001b[0m     \u001b[38;5;28;43mself\u001b[39;49m\u001b[38;5;241;43m.\u001b[39;49m\u001b[43m_execute_child\u001b[49m\u001b[43m(\u001b[49m\u001b[43margs\u001b[49m\u001b[43m,\u001b[49m\u001b[43m \u001b[49m\u001b[43mexecutable\u001b[49m\u001b[43m,\u001b[49m\u001b[43m \u001b[49m\u001b[43mpreexec_fn\u001b[49m\u001b[43m,\u001b[49m\u001b[43m \u001b[49m\u001b[43mclose_fds\u001b[49m\u001b[43m,\u001b[49m\n\u001b[1;32m    952\u001b[0m \u001b[43m                        \u001b[49m\u001b[43mpass_fds\u001b[49m\u001b[43m,\u001b[49m\u001b[43m \u001b[49m\u001b[43mcwd\u001b[49m\u001b[43m,\u001b[49m\u001b[43m \u001b[49m\u001b[43menv\u001b[49m\u001b[43m,\u001b[49m\n\u001b[1;32m    953\u001b[0m \u001b[43m                        \u001b[49m\u001b[43mstartupinfo\u001b[49m\u001b[43m,\u001b[49m\u001b[43m \u001b[49m\u001b[43mcreationflags\u001b[49m\u001b[43m,\u001b[49m\u001b[43m \u001b[49m\u001b[43mshell\u001b[49m\u001b[43m,\u001b[49m\n\u001b[1;32m    954\u001b[0m \u001b[43m                        \u001b[49m\u001b[43mp2cread\u001b[49m\u001b[43m,\u001b[49m\u001b[43m \u001b[49m\u001b[43mp2cwrite\u001b[49m\u001b[43m,\u001b[49m\n\u001b[1;32m    955\u001b[0m \u001b[43m                        \u001b[49m\u001b[43mc2pread\u001b[49m\u001b[43m,\u001b[49m\u001b[43m \u001b[49m\u001b[43mc2pwrite\u001b[49m\u001b[43m,\u001b[49m\n\u001b[1;32m    956\u001b[0m \u001b[43m                        \u001b[49m\u001b[43merrread\u001b[49m\u001b[43m,\u001b[49m\u001b[43m \u001b[49m\u001b[43merrwrite\u001b[49m\u001b[43m,\u001b[49m\n\u001b[1;32m    957\u001b[0m \u001b[43m                        \u001b[49m\u001b[43mrestore_signals\u001b[49m\u001b[43m,\u001b[49m\n\u001b[1;32m    958\u001b[0m \u001b[43m                        \u001b[49m\u001b[43mgid\u001b[49m\u001b[43m,\u001b[49m\u001b[43m \u001b[49m\u001b[43mgids\u001b[49m\u001b[43m,\u001b[49m\u001b[43m \u001b[49m\u001b[43muid\u001b[49m\u001b[43m,\u001b[49m\u001b[43m \u001b[49m\u001b[43mumask\u001b[49m\u001b[43m,\u001b[49m\n\u001b[1;32m    959\u001b[0m \u001b[43m                        \u001b[49m\u001b[43mstart_new_session\u001b[49m\u001b[43m)\u001b[49m\n\u001b[1;32m    960\u001b[0m \u001b[38;5;28;01mexcept\u001b[39;00m:\n\u001b[1;32m    961\u001b[0m     \u001b[38;5;66;03m# Cleanup if the child failed starting.\u001b[39;00m\n",
      "File \u001b[0;32m/Library/Developer/CommandLineTools/Library/Frameworks/Python3.framework/Versions/3.9/lib/python3.9/subprocess.py:1821\u001b[0m, in \u001b[0;36mPopen._execute_child\u001b[0;34m(self, args, executable, preexec_fn, close_fds, pass_fds, cwd, env, startupinfo, creationflags, shell, p2cread, p2cwrite, c2pread, c2pwrite, errread, errwrite, restore_signals, gid, gids, uid, umask, start_new_session)\u001b[0m\n\u001b[1;32m   1820\u001b[0m         err_msg \u001b[38;5;241m=\u001b[39m os\u001b[38;5;241m.\u001b[39mstrerror(errno_num)\n\u001b[0;32m-> 1821\u001b[0m     \u001b[38;5;28;01mraise\u001b[39;00m child_exception_type(errno_num, err_msg, err_filename)\n\u001b[1;32m   1822\u001b[0m \u001b[38;5;28;01mraise\u001b[39;00m child_exception_type(err_msg)\n",
      "\u001b[0;31mFileNotFoundError\u001b[0m: [Errno 2] No such file or directory: 'dot'",
      "\nDuring handling of the above exception, another exception occurred:\n",
      "\u001b[0;31mFileNotFoundError\u001b[0m                         Traceback (most recent call last)",
      "File \u001b[0;32m~/Desktop/pmf-projekat/env/lib/python3.9/site-packages/keras/utils/vis_utils.py:57\u001b[0m, in \u001b[0;36mcheck_graphviz\u001b[0;34m()\u001b[0m\n\u001b[1;32m     54\u001b[0m \u001b[38;5;28;01mtry\u001b[39;00m:\n\u001b[1;32m     55\u001b[0m     \u001b[38;5;66;03m# Attempt to create an image of a blank graph\u001b[39;00m\n\u001b[1;32m     56\u001b[0m     \u001b[38;5;66;03m# to check the pydot/graphviz installation.\u001b[39;00m\n\u001b[0;32m---> 57\u001b[0m     \u001b[43mpydot\u001b[49m\u001b[38;5;241;43m.\u001b[39;49m\u001b[43mDot\u001b[49m\u001b[38;5;241;43m.\u001b[39;49m\u001b[43mcreate\u001b[49m\u001b[43m(\u001b[49m\u001b[43mpydot\u001b[49m\u001b[38;5;241;43m.\u001b[39;49m\u001b[43mDot\u001b[49m\u001b[43m(\u001b[49m\u001b[43m)\u001b[49m\u001b[43m)\u001b[49m\n\u001b[1;32m     58\u001b[0m     \u001b[38;5;28;01mreturn\u001b[39;00m \u001b[38;5;28;01mTrue\u001b[39;00m\n",
      "File \u001b[0;32m~/Desktop/pmf-projekat/env/lib/python3.9/site-packages/pydot/core.py:1808\u001b[0m, in \u001b[0;36mDot.create\u001b[0;34m(self, prog, format, encoding)\u001b[0m\n\u001b[1;32m   1807\u001b[0m     args[\u001b[38;5;241m1\u001b[39m] \u001b[38;5;241m=\u001b[39m \u001b[38;5;124mf\u001b[39m\u001b[38;5;124m'\u001b[39m\u001b[38;5;124m\"\u001b[39m\u001b[38;5;132;01m{\u001b[39;00mprog\u001b[38;5;132;01m}\u001b[39;00m\u001b[38;5;124m\"\u001b[39m\u001b[38;5;124m not found in path.\u001b[39m\u001b[38;5;124m'\u001b[39m\n\u001b[0;32m-> 1808\u001b[0m     \u001b[38;5;28;01mraise\u001b[39;00m \u001b[38;5;167;01mOSError\u001b[39;00m(\u001b[38;5;241m*\u001b[39margs)\n\u001b[1;32m   1809\u001b[0m \u001b[38;5;28;01melse\u001b[39;00m:\n",
      "\u001b[0;31mFileNotFoundError\u001b[0m: [Errno 2] \"dot\" not found in path.",
      "\nDuring handling of the above exception, another exception occurred:\n",
      "\u001b[0;31mAttributeError\u001b[0m                            Traceback (most recent call last)",
      "Cell \u001b[0;32mIn[22], line 3\u001b[0m\n\u001b[1;32m      1\u001b[0m model\u001b[38;5;241m.\u001b[39mmodel\u001b[38;5;241m.\u001b[39mlayers[\u001b[38;5;241m2\u001b[39m]\u001b[38;5;241m.\u001b[39msummary()\n\u001b[1;32m      2\u001b[0m model\u001b[38;5;241m.\u001b[39mmodel\u001b[38;5;241m.\u001b[39msummary()\n\u001b[0;32m----> 3\u001b[0m \u001b[43mutils\u001b[49m\u001b[38;5;241;43m.\u001b[39;49m\u001b[43mplot_model\u001b[49m\u001b[43m(\u001b[49m\u001b[43mmodel\u001b[49m\u001b[38;5;241;43m.\u001b[39;49m\u001b[43mmodel\u001b[49m\u001b[43m,\u001b[49m\u001b[43m \u001b[49m\u001b[43mshow_shapes\u001b[49m\u001b[38;5;241;43m=\u001b[39;49m\u001b[38;5;28;43;01mTrue\u001b[39;49;00m\u001b[43m,\u001b[49m\u001b[43m \u001b[49m\u001b[43mexpand_nested\u001b[49m\u001b[38;5;241;43m=\u001b[39;49m\u001b[38;5;28;43;01mTrue\u001b[39;49;00m\u001b[43m)\u001b[49m\n",
      "File \u001b[0;32m~/Desktop/pmf-projekat/env/lib/python3.9/site-packages/keras/utils/vis_utils.py:436\u001b[0m, in \u001b[0;36mplot_model\u001b[0;34m(model, to_file, show_shapes, show_dtype, show_layer_names, rankdir, expand_nested, dpi, layer_range, show_layer_activations)\u001b[0m\n\u001b[1;32m    429\u001b[0m \u001b[38;5;28;01mif\u001b[39;00m \u001b[38;5;129;01mnot\u001b[39;00m model\u001b[38;5;241m.\u001b[39mbuilt:\n\u001b[1;32m    430\u001b[0m     \u001b[38;5;28;01mraise\u001b[39;00m \u001b[38;5;167;01mValueError\u001b[39;00m(\n\u001b[1;32m    431\u001b[0m         \u001b[38;5;124m\"\u001b[39m\u001b[38;5;124mThis model has not yet been built. \u001b[39m\u001b[38;5;124m\"\u001b[39m\n\u001b[1;32m    432\u001b[0m         \u001b[38;5;124m\"\u001b[39m\u001b[38;5;124mBuild the model first by calling `build()` or by calling \u001b[39m\u001b[38;5;124m\"\u001b[39m\n\u001b[1;32m    433\u001b[0m         \u001b[38;5;124m\"\u001b[39m\u001b[38;5;124mthe model on a batch of data.\u001b[39m\u001b[38;5;124m\"\u001b[39m\n\u001b[1;32m    434\u001b[0m     )\n\u001b[0;32m--> 436\u001b[0m \u001b[38;5;28;01mif\u001b[39;00m \u001b[38;5;129;01mnot\u001b[39;00m \u001b[43mcheck_graphviz\u001b[49m\u001b[43m(\u001b[49m\u001b[43m)\u001b[49m:\n\u001b[1;32m    437\u001b[0m     message \u001b[38;5;241m=\u001b[39m (\n\u001b[1;32m    438\u001b[0m         \u001b[38;5;124m\"\u001b[39m\u001b[38;5;124mYou must install pydot (`pip install pydot`) \u001b[39m\u001b[38;5;124m\"\u001b[39m\n\u001b[1;32m    439\u001b[0m         \u001b[38;5;124m\"\u001b[39m\u001b[38;5;124mand install graphviz \u001b[39m\u001b[38;5;124m\"\u001b[39m\n\u001b[1;32m    440\u001b[0m         \u001b[38;5;124m\"\u001b[39m\u001b[38;5;124m(see instructions at https://graphviz.gitlab.io/download/) \u001b[39m\u001b[38;5;124m\"\u001b[39m\n\u001b[1;32m    441\u001b[0m         \u001b[38;5;124m\"\u001b[39m\u001b[38;5;124mfor plot_model to work.\u001b[39m\u001b[38;5;124m\"\u001b[39m\n\u001b[1;32m    442\u001b[0m     )\n\u001b[1;32m    443\u001b[0m     \u001b[38;5;28;01mif\u001b[39;00m \u001b[38;5;124m\"\u001b[39m\u001b[38;5;124mIPython.core.magics.namespace\u001b[39m\u001b[38;5;124m\"\u001b[39m \u001b[38;5;129;01min\u001b[39;00m sys\u001b[38;5;241m.\u001b[39mmodules:\n\u001b[1;32m    444\u001b[0m         \u001b[38;5;66;03m# We don't raise an exception here in order to avoid crashing\u001b[39;00m\n\u001b[1;32m    445\u001b[0m         \u001b[38;5;66;03m# notebook tests where graphviz is not available.\u001b[39;00m\n",
      "File \u001b[0;32m~/Desktop/pmf-projekat/env/lib/python3.9/site-packages/keras/utils/vis_utils.py:59\u001b[0m, in \u001b[0;36mcheck_graphviz\u001b[0;34m()\u001b[0m\n\u001b[1;32m     57\u001b[0m     pydot\u001b[38;5;241m.\u001b[39mDot\u001b[38;5;241m.\u001b[39mcreate(pydot\u001b[38;5;241m.\u001b[39mDot())\n\u001b[1;32m     58\u001b[0m     \u001b[38;5;28;01mreturn\u001b[39;00m \u001b[38;5;28;01mTrue\u001b[39;00m\n\u001b[0;32m---> 59\u001b[0m \u001b[38;5;28;01mexcept\u001b[39;00m (\u001b[38;5;167;01mOSError\u001b[39;00m, \u001b[43mpydot\u001b[49m\u001b[38;5;241;43m.\u001b[39;49m\u001b[43mInvocationException\u001b[49m):\n\u001b[1;32m     60\u001b[0m     \u001b[38;5;28;01mreturn\u001b[39;00m \u001b[38;5;28;01mFalse\u001b[39;00m\n",
      "\u001b[0;31mAttributeError\u001b[0m: module 'pydot' has no attribute 'InvocationException'"
     ]
    }
   ],
   "source": [
    "model.model.layers[2].summary()\n",
    "model.model.summary()\n",
    "utils.plot_model(model.model, show_shapes=True, expand_nested=True)"
   ]
  },
  {
   "cell_type": "code",
   "execution_count": 23,
   "id": "50e1b251-3db1-43ed-94b2-76b40fe94152",
   "metadata": {},
   "outputs": [
    {
     "name": "stdout",
     "output_type": "stream",
     "text": [
      "Epoch 1/100\n"
     ]
    },
    {
     "name": "stderr",
     "output_type": "stream",
     "text": [
      "/Users/radoman2/Desktop/pmf-projekat/env/lib/python3.9/site-packages/tensorflow/python/framework/indexed_slices.py:444: UserWarning: Converting sparse IndexedSlices(IndexedSlices(indices=Tensor(\"gradient_tape/siamese_network/model/feature_extractor/dense/embedding_lookup_sparse/Reshape_1:0\", shape=(None,), dtype=int32), values=Tensor(\"gradient_tape/siamese_network/model/feature_extractor/dense/embedding_lookup_sparse/Reshape:0\", shape=(None, 100), dtype=float32), dense_shape=Tensor(\"gradient_tape/siamese_network/model/feature_extractor/dense/embedding_lookup_sparse/Cast:0\", shape=(2,), dtype=int32))) to a dense Tensor of unknown shape. This may consume a large amount of memory.\n",
      "  warnings.warn(\n",
      "/Users/radoman2/Desktop/pmf-projekat/env/lib/python3.9/site-packages/tensorflow/python/framework/indexed_slices.py:444: UserWarning: Converting sparse IndexedSlices(IndexedSlices(indices=Tensor(\"gradient_tape/siamese_network/model/feature_extractor/dense/embedding_lookup_sparse_1/Reshape_1:0\", shape=(None,), dtype=int32), values=Tensor(\"gradient_tape/siamese_network/model/feature_extractor/dense/embedding_lookup_sparse_1/Reshape:0\", shape=(None, 100), dtype=float32), dense_shape=Tensor(\"gradient_tape/siamese_network/model/feature_extractor/dense/embedding_lookup_sparse_1/Cast:0\", shape=(2,), dtype=int32))) to a dense Tensor of unknown shape. This may consume a large amount of memory.\n",
      "  warnings.warn(\n"
     ]
    },
    {
     "name": "stdout",
     "output_type": "stream",
     "text": [
      "7/7 [==============================] - 2s 35ms/step - loss: 0.7511 - accuracy: 0.5404 - val_loss: 0.7080 - val_accuracy: 0.5000 - lr: 1.0000e-04\n",
      "Epoch 2/100\n",
      "7/7 [==============================] - 0s 3ms/step - loss: 0.7863 - accuracy: 0.5354 - val_loss: 0.7099 - val_accuracy: 0.5000 - lr: 1.0000e-04\n",
      "Epoch 3/100\n",
      "1/7 [===>..........................] - ETA: 0s - loss: 0.8421 - accuracy: 0.5000\n",
      "Epoch 3: ReduceLROnPlateau reducing learning rate to 9.999999747378752e-06.\n",
      "7/7 [==============================] - 0s 3ms/step - loss: 0.7786 - accuracy: 0.5455 - val_loss: 0.7118 - val_accuracy: 0.5000 - lr: 1.0000e-04\n",
      "Epoch 4/100\n",
      "7/7 [==============================] - 0s 3ms/step - loss: 0.7226 - accuracy: 0.5556 - val_loss: 0.7133 - val_accuracy: 0.5000 - lr: 1.0000e-05\n",
      "Epoch 5/100\n",
      "1/7 [===>..........................] - ETA: 0s - loss: 0.6586 - accuracy: 0.5625\n",
      "Epoch 5: ReduceLROnPlateau reducing learning rate to 9.999999747378752e-07.\n",
      "7/7 [==============================] - 0s 4ms/step - loss: 0.7436 - accuracy: 0.5253 - val_loss: 0.7151 - val_accuracy: 0.5000 - lr: 1.0000e-05\n",
      "Epoch 6/100\n",
      "1/7 [===>..........................] - ETA: 0s - loss: 0.7735 - accuracy: 0.6250Restoring model weights from the end of the best epoch: 1.\n",
      "7/7 [==============================] - 0s 4ms/step - loss: 0.7512 - accuracy: 0.5505 - val_loss: 0.7167 - val_accuracy: 0.5000 - lr: 1.0000e-06\n",
      "Epoch 6: early stopping\n"
     ]
    }
   ],
   "source": [
    "es = callbacks.EarlyStopping(\n",
    "    monitor='val_loss', patience=5, verbose=1, restore_best_weights=True\n",
    ")\n",
    "\n",
    "rlp = callbacks.ReduceLROnPlateau(\n",
    "    monitor='val_loss', factor=0.1, patience=2, min_lr=1e-10, mode='min', verbose=1\n",
    ")\n",
    "\n",
    "history = model.fit(\n",
    "    x_train, y_train,\n",
    "    validation_data=(x_valid, y_valid),\n",
    "    batch_size=32, \n",
    "    epochs=100,\n",
    "    callbacks=[es, rlp]\n",
    ")"
   ]
  },
  {
   "cell_type": "code",
   "execution_count": 24,
   "id": "276e08e4-9d1b-4c0e-baff-ae84fa9d4ba0",
   "metadata": {},
   "outputs": [],
   "source": [
    "import matplotlib.pyplot as plt\n",
    "import seaborn as sns"
   ]
  },
  {
   "cell_type": "code",
   "execution_count": 25,
   "id": "8ffc6f5c-b265-44c8-9adb-1ac2211e8730",
   "metadata": {},
   "outputs": [
    {
     "data": {
      "image/png": "[encoded data removed]",
      "text/plain": [
       "<Figure size 2000x800 with 2 Axes>"
      ]
     },
     "metadata": {},
     "output_type": "display_data"
    }
   ],
   "source": [
    "fig, ax = plt.subplots(2, 1, figsize=(20, 8))\n",
    "df = pd.DataFrame(history.history)\n",
    "df[['accuracy', 'val_accuracy']].plot(ax=ax[0])\n",
    "df[['loss', 'val_loss']].plot(ax=ax[1])\n",
    "ax[0].set_title('Model Accuracy', fontsize=12)\n",
    "ax[1].set_title('Model Loss', fontsize=12)\n",
    "fig.suptitle('Siamese Network: Learning Curve', fontsize=18);"
   ]
  },
  {
   "cell_type": "code",
   "execution_count": null,
   "id": "ebe11cec-0c45-46f8-9bfe-ab4154bb9746",
   "metadata": {},
   "outputs": [],
   "source": []
  }
 ],
 "metadata": {
  "kernelspec": {
   "display_name": "Python 3 (ipykernel)",
   "language": "python",
   "name": "python3"
  },
  "language_info": {
   "codemirror_mode": {
    "name": "ipython",
    "version": 3
   },
   "file_extension": ".py",
   "mimetype": "text/x-python",
   "name": "python",
   "nbconvert_exporter": "python",
   "pygments_lexer": "ipython3",
   "version": "3.9.6"
  }
 },
 "nbformat": 4,
 "nbformat_minor": 5
}
