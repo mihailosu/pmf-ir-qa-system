{
 "cells": [
  {
   "cell_type": "code",
   "execution_count": 1,
   "id": "69db75f7-9d63-4d45-b724-2f5f30ab0a6b",
   "metadata": {},
   "outputs": [
    {
     "name": "stderr",
     "output_type": "stream",
     "text": [
      "2024-08-11 16:09:53.662708: I tensorflow/core/platform/cpu_feature_guard.cc:193] This TensorFlow binary is optimized with oneAPI Deep Neural Network Library (oneDNN) to use the following CPU instructions in performance-critical operations:  AVX2 FMA\n",
      "To enable them in other operations, rebuild TensorFlow with the appropriate compiler flags.\n",
      "/Users/radoman2/Desktop/pmf-projekat/env/lib/python3.9/site-packages/urllib3/__init__.py:35: NotOpenSSLWarning: urllib3 v2 only supports OpenSSL 1.1.1+, currently the 'ssl' module is compiled with 'LibreSSL 2.8.3'. See: https://github.com/urllib3/urllib3/issues/3020\n",
      "  warnings.warn(\n"
     ]
    }
   ],
   "source": [
    "import tensorflow as tf"
   ]
  },
  {
   "cell_type": "code",
   "execution_count": 2,
   "id": "2c44e7a3-750e-41d4-922f-83feada5b142",
   "metadata": {},
   "outputs": [],
   "source": [
    "import pandas as pd\n",
    "import numpy as np"
   ]
  },
  {
   "cell_type": "markdown",
   "id": "44270d7f-c9a9-45d6-9022-d97aa194914d",
   "metadata": {},
   "source": [
    "### Loading dataset"
   ]
  },
  {
   "cell_type": "code",
   "execution_count": 3,
   "id": "4d158489-b79e-41a3-b7e7-34c993aceb2f",
   "metadata": {},
   "outputs": [],
   "source": [
    "training_dataset = pd.read_csv('preprocessing_output/training_dataset_final.csv')"
   ]
  },
  {
   "cell_type": "code",
   "execution_count": 4,
   "id": "b06a84f1-c3f7-4156-a453-292e707cf5cd",
   "metadata": {},
   "outputs": [
    {
     "data": {
      "text/html": [
       "<div>\n",
       "<style scoped>\n",
       "    .dataframe tbody tr th:only-of-type {\n",
       "        vertical-align: middle;\n",
       "    }\n",
       "\n",
       "    .dataframe tbody tr th {\n",
       "        vertical-align: top;\n",
       "    }\n",
       "\n",
       "    .dataframe thead th {\n",
       "        text-align: right;\n",
       "    }\n",
       "</style>\n",
       "<table border=\"1\" class=\"dataframe\">\n",
       "  <thead>\n",
       "    <tr style=\"text-align: right;\">\n",
       "      <th></th>\n",
       "      <th>Question</th>\n",
       "      <th>Similar/Dissimilar</th>\n",
       "      <th>Output</th>\n",
       "    </tr>\n",
       "  </thead>\n",
       "  <tbody>\n",
       "    <tr>\n",
       "      <th>0</th>\n",
       "      <td>Where Do You Get Disability Insurance?</td>\n",
       "      <td>Is Long Term Disability Insurance The Same As ...</td>\n",
       "      <td>0</td>\n",
       "    </tr>\n",
       "    <tr>\n",
       "      <th>1</th>\n",
       "      <td>Does Each Tenant Need Renters Insurance?</td>\n",
       "      <td>Does Your Spouse Have To Be Your Beneficiary F...</td>\n",
       "      <td>0</td>\n",
       "    </tr>\n",
       "    <tr>\n",
       "      <th>2</th>\n",
       "      <td>Can Life Insurance Refuse To Pay?</td>\n",
       "      <td>How Much Is Enough Auto Insurance Coverage?</td>\n",
       "      <td>0</td>\n",
       "    </tr>\n",
       "    <tr>\n",
       "      <th>3</th>\n",
       "      <td>Does Long Term Care Insurance Cover Assisted L...</td>\n",
       "      <td>Is Long Term Care Insurance Regulated?</td>\n",
       "      <td>0</td>\n",
       "    </tr>\n",
       "    <tr>\n",
       "      <th>4</th>\n",
       "      <td>How Do I Choose A Medigap Plan?</td>\n",
       "      <td>Can You Change From Medicare Advantage To Medi...</td>\n",
       "      <td>0</td>\n",
       "    </tr>\n",
       "    <tr>\n",
       "      <th>...</th>\n",
       "      <td>...</td>\n",
       "      <td>...</td>\n",
       "      <td>...</td>\n",
       "    </tr>\n",
       "    <tr>\n",
       "      <th>195</th>\n",
       "      <td>What To Look For In A Good Health Insurance Plan?</td>\n",
       "      <td>What Qualifies As A Quality Health Insurance P...</td>\n",
       "      <td>1</td>\n",
       "    </tr>\n",
       "    <tr>\n",
       "      <th>196</th>\n",
       "      <td>Does Suze Orman Hate Whole Life Insurance?</td>\n",
       "      <td>Is Whole Life Insurance Something Suze Orman H...</td>\n",
       "      <td>1</td>\n",
       "    </tr>\n",
       "    <tr>\n",
       "      <th>197</th>\n",
       "      <td>How Much Does It Cost To Add A Named Driver To...</td>\n",
       "      <td>What Is The Price Of Adding A Named Driver To ...</td>\n",
       "      <td>1</td>\n",
       "    </tr>\n",
       "    <tr>\n",
       "      <th>198</th>\n",
       "      <td>Is Disability Insurance The Same As Workers Co...</td>\n",
       "      <td>Is Workers Compensation and Disability Insuran...</td>\n",
       "      <td>1</td>\n",
       "    </tr>\n",
       "    <tr>\n",
       "      <th>199</th>\n",
       "      <td>When Was Universal Life Insurance Created?</td>\n",
       "      <td>When was the creation of universal life insura...</td>\n",
       "      <td>1</td>\n",
       "    </tr>\n",
       "  </tbody>\n",
       "</table>\n",
       "<p>200 rows × 3 columns</p>\n",
       "</div>"
      ],
      "text/plain": [
       "                                              Question  \\\n",
       "0               Where Do You Get Disability Insurance?   \n",
       "1             Does Each Tenant Need Renters Insurance?   \n",
       "2                    Can Life Insurance Refuse To Pay?   \n",
       "3    Does Long Term Care Insurance Cover Assisted L...   \n",
       "4                      How Do I Choose A Medigap Plan?   \n",
       "..                                                 ...   \n",
       "195  What To Look For In A Good Health Insurance Plan?   \n",
       "196         Does Suze Orman Hate Whole Life Insurance?   \n",
       "197  How Much Does It Cost To Add A Named Driver To...   \n",
       "198  Is Disability Insurance The Same As Workers Co...   \n",
       "199         When Was Universal Life Insurance Created?   \n",
       "\n",
       "                                    Similar/Dissimilar  Output  \n",
       "0    Is Long Term Disability Insurance The Same As ...       0  \n",
       "1    Does Your Spouse Have To Be Your Beneficiary F...       0  \n",
       "2          How Much Is Enough Auto Insurance Coverage?       0  \n",
       "3               Is Long Term Care Insurance Regulated?       0  \n",
       "4    Can You Change From Medicare Advantage To Medi...       0  \n",
       "..                                                 ...     ...  \n",
       "195  What Qualifies As A Quality Health Insurance P...       1  \n",
       "196  Is Whole Life Insurance Something Suze Orman H...       1  \n",
       "197  What Is The Price Of Adding A Named Driver To ...       1  \n",
       "198  Is Workers Compensation and Disability Insuran...       1  \n",
       "199  When was the creation of universal life insura...       1  \n",
       "\n",
       "[200 rows x 3 columns]"
      ]
     },
     "execution_count": 4,
     "metadata": {},
     "output_type": "execute_result"
    }
   ],
   "source": [
    "training_dataset"
   ]
  },
  {
   "cell_type": "markdown",
   "id": "001d3566-a059-40a4-a5f0-dbe907d03d74",
   "metadata": {},
   "source": [
    "### Reshuffling the dataset"
   ]
  },
  {
   "cell_type": "code",
   "execution_count": 5,
   "id": "d16c4fdd-9b2a-4a96-9b70-6b2bd2ca652a",
   "metadata": {},
   "outputs": [],
   "source": [
    "training_dataset = training_dataset.sample(frac=1, random_state=6).reset_index(drop=True)"
   ]
  },
  {
   "cell_type": "code",
   "execution_count": 6,
   "id": "736c1763-1887-44f4-b241-a971b11ecf63",
   "metadata": {},
   "outputs": [
    {
     "data": {
      "text/html": [
       "<div>\n",
       "<style scoped>\n",
       "    .dataframe tbody tr th:only-of-type {\n",
       "        vertical-align: middle;\n",
       "    }\n",
       "\n",
       "    .dataframe tbody tr th {\n",
       "        vertical-align: top;\n",
       "    }\n",
       "\n",
       "    .dataframe thead th {\n",
       "        text-align: right;\n",
       "    }\n",
       "</style>\n",
       "<table border=\"1\" class=\"dataframe\">\n",
       "  <thead>\n",
       "    <tr style=\"text-align: right;\">\n",
       "      <th></th>\n",
       "      <th>Question</th>\n",
       "      <th>Similar/Dissimilar</th>\n",
       "      <th>Output</th>\n",
       "    </tr>\n",
       "  </thead>\n",
       "  <tbody>\n",
       "    <tr>\n",
       "      <th>0</th>\n",
       "      <td>How Much Can You Borrow From Your Life Insuran...</td>\n",
       "      <td>How much of your life insurance policy may you...</td>\n",
       "      <td>1</td>\n",
       "    </tr>\n",
       "    <tr>\n",
       "      <th>1</th>\n",
       "      <td>Can I Get Life Insurance If I Have Lung Cancer?</td>\n",
       "      <td>Can The IRS Go After Life Insurance Proceeds?</td>\n",
       "      <td>0</td>\n",
       "    </tr>\n",
       "    <tr>\n",
       "      <th>2</th>\n",
       "      <td>Does Medicaid Pay Part B Of Medicare?</td>\n",
       "      <td>Does Medicaid Cover Medicare Part B?</td>\n",
       "      <td>1</td>\n",
       "    </tr>\n",
       "    <tr>\n",
       "      <th>3</th>\n",
       "      <td>Does Health Insurance Increase With Age?</td>\n",
       "      <td>Does Age Affect the Cost of Health Insurance?</td>\n",
       "      <td>1</td>\n",
       "    </tr>\n",
       "    <tr>\n",
       "      <th>4</th>\n",
       "      <td>How Much Life Insurance Should You Carry?</td>\n",
       "      <td>What Level of Life Insurance Is Adequate?</td>\n",
       "      <td>1</td>\n",
       "    </tr>\n",
       "    <tr>\n",
       "      <th>...</th>\n",
       "      <td>...</td>\n",
       "      <td>...</td>\n",
       "      <td>...</td>\n",
       "    </tr>\n",
       "    <tr>\n",
       "      <th>195</th>\n",
       "      <td>Is Disability Insurance The Same As Workers Co...</td>\n",
       "      <td>Is Workers Compensation and Disability Insuran...</td>\n",
       "      <td>1</td>\n",
       "    </tr>\n",
       "    <tr>\n",
       "      <th>196</th>\n",
       "      <td>How Much To Budget For Homeowners Insurance?</td>\n",
       "      <td>What Is Good Renters Insurance?</td>\n",
       "      <td>0</td>\n",
       "    </tr>\n",
       "    <tr>\n",
       "      <th>197</th>\n",
       "      <td>Why Is Boys Car Insurance Higher?</td>\n",
       "      <td>Why Does Boy's Auto Insurance Cost More?</td>\n",
       "      <td>1</td>\n",
       "    </tr>\n",
       "    <tr>\n",
       "      <th>198</th>\n",
       "      <td>How Much Does Life Insurance Typically Cost?</td>\n",
       "      <td>How Much Is The Average Cost of Life Insurance?</td>\n",
       "      <td>1</td>\n",
       "    </tr>\n",
       "    <tr>\n",
       "      <th>199</th>\n",
       "      <td>Who Sells Short Term Disability Insurance?</td>\n",
       "      <td>Who Offers Insurance for Short-Term Disability?</td>\n",
       "      <td>1</td>\n",
       "    </tr>\n",
       "  </tbody>\n",
       "</table>\n",
       "<p>200 rows × 3 columns</p>\n",
       "</div>"
      ],
      "text/plain": [
       "                                              Question  \\\n",
       "0    How Much Can You Borrow From Your Life Insuran...   \n",
       "1      Can I Get Life Insurance If I Have Lung Cancer?   \n",
       "2                Does Medicaid Pay Part B Of Medicare?   \n",
       "3             Does Health Insurance Increase With Age?   \n",
       "4            How Much Life Insurance Should You Carry?   \n",
       "..                                                 ...   \n",
       "195  Is Disability Insurance The Same As Workers Co...   \n",
       "196       How Much To Budget For Homeowners Insurance?   \n",
       "197                  Why Is Boys Car Insurance Higher?   \n",
       "198       How Much Does Life Insurance Typically Cost?   \n",
       "199         Who Sells Short Term Disability Insurance?   \n",
       "\n",
       "                                    Similar/Dissimilar  Output  \n",
       "0    How much of your life insurance policy may you...       1  \n",
       "1        Can The IRS Go After Life Insurance Proceeds?       0  \n",
       "2                 Does Medicaid Cover Medicare Part B?       1  \n",
       "3        Does Age Affect the Cost of Health Insurance?       1  \n",
       "4            What Level of Life Insurance Is Adequate?       1  \n",
       "..                                                 ...     ...  \n",
       "195  Is Workers Compensation and Disability Insuran...       1  \n",
       "196                    What Is Good Renters Insurance?       0  \n",
       "197           Why Does Boy's Auto Insurance Cost More?       1  \n",
       "198    How Much Is The Average Cost of Life Insurance?       1  \n",
       "199    Who Offers Insurance for Short-Term Disability?       1  \n",
       "\n",
       "[200 rows x 3 columns]"
      ]
     },
     "execution_count": 6,
     "metadata": {},
     "output_type": "execute_result"
    }
   ],
   "source": [
    "training_dataset"
   ]
  },
  {
   "cell_type": "markdown",
   "id": "15aec63c-8938-44d2-a38b-4c417a9f17ed",
   "metadata": {},
   "source": [
    "### Text preprocess"
   ]
  },
  {
   "cell_type": "code",
   "execution_count": 7,
   "id": "ab14c723-1d69-4a4d-b2d1-4b623af13c1f",
   "metadata": {},
   "outputs": [],
   "source": [
    "from gensim.models import Word2Vec # we will use word2vec to vectorize words\n",
    "from gensim.utils import simple_preprocess # and simple preprocess before that to tokenize and remove punctuation"
   ]
  },
  {
   "cell_type": "code",
   "execution_count": 8,
   "id": "c0de6d8e-2ee2-4ff9-b034-a601d68b747b",
   "metadata": {},
   "outputs": [],
   "source": [
    "def preprocess_text(text):\n",
    "    return simple_preprocess(text, deacc=True)  # tokenize and remove punctuation"
   ]
  },
  {
   "cell_type": "code",
   "execution_count": 9,
   "id": "3b355694-7c02-4679-8133-b9781bda4dea",
   "metadata": {},
   "outputs": [],
   "source": [
    "training_dataset['Question_processed'] = training_dataset['Question'].apply(preprocess_text)\n",
    "training_dataset['Similar/Dissimilar_processed'] = training_dataset['Similar/Dissimilar'].apply(preprocess_text)"
   ]
  },
  {
   "cell_type": "code",
   "execution_count": 10,
   "id": "80977bdf-1bff-45f7-aa8f-10a0398d7991",
   "metadata": {},
   "outputs": [
    {
     "data": {
      "text/html": [
       "<div>\n",
       "<style scoped>\n",
       "    .dataframe tbody tr th:only-of-type {\n",
       "        vertical-align: middle;\n",
       "    }\n",
       "\n",
       "    .dataframe tbody tr th {\n",
       "        vertical-align: top;\n",
       "    }\n",
       "\n",
       "    .dataframe thead th {\n",
       "        text-align: right;\n",
       "    }\n",
       "</style>\n",
       "<table border=\"1\" class=\"dataframe\">\n",
       "  <thead>\n",
       "    <tr style=\"text-align: right;\">\n",
       "      <th></th>\n",
       "      <th>Question</th>\n",
       "      <th>Similar/Dissimilar</th>\n",
       "      <th>Output</th>\n",
       "      <th>Question_processed</th>\n",
       "      <th>Similar/Dissimilar_processed</th>\n",
       "    </tr>\n",
       "  </thead>\n",
       "  <tbody>\n",
       "    <tr>\n",
       "      <th>0</th>\n",
       "      <td>How Much Can You Borrow From Your Life Insuran...</td>\n",
       "      <td>How much of your life insurance policy may you...</td>\n",
       "      <td>1</td>\n",
       "      <td>[how, much, can, you, borrow, from, your, life...</td>\n",
       "      <td>[how, much, of, your, life, insurance, policy,...</td>\n",
       "    </tr>\n",
       "    <tr>\n",
       "      <th>1</th>\n",
       "      <td>Can I Get Life Insurance If I Have Lung Cancer?</td>\n",
       "      <td>Can The IRS Go After Life Insurance Proceeds?</td>\n",
       "      <td>0</td>\n",
       "      <td>[can, get, life, insurance, if, have, lung, ca...</td>\n",
       "      <td>[can, the, irs, go, after, life, insurance, pr...</td>\n",
       "    </tr>\n",
       "    <tr>\n",
       "      <th>2</th>\n",
       "      <td>Does Medicaid Pay Part B Of Medicare?</td>\n",
       "      <td>Does Medicaid Cover Medicare Part B?</td>\n",
       "      <td>1</td>\n",
       "      <td>[does, medicaid, pay, part, of, medicare]</td>\n",
       "      <td>[does, medicaid, cover, medicare, part]</td>\n",
       "    </tr>\n",
       "    <tr>\n",
       "      <th>3</th>\n",
       "      <td>Does Health Insurance Increase With Age?</td>\n",
       "      <td>Does Age Affect the Cost of Health Insurance?</td>\n",
       "      <td>1</td>\n",
       "      <td>[does, health, insurance, increase, with, age]</td>\n",
       "      <td>[does, age, affect, the, cost, of, health, ins...</td>\n",
       "    </tr>\n",
       "    <tr>\n",
       "      <th>4</th>\n",
       "      <td>How Much Life Insurance Should You Carry?</td>\n",
       "      <td>What Level of Life Insurance Is Adequate?</td>\n",
       "      <td>1</td>\n",
       "      <td>[how, much, life, insurance, should, you, carry]</td>\n",
       "      <td>[what, level, of, life, insurance, is, adequate]</td>\n",
       "    </tr>\n",
       "    <tr>\n",
       "      <th>...</th>\n",
       "      <td>...</td>\n",
       "      <td>...</td>\n",
       "      <td>...</td>\n",
       "      <td>...</td>\n",
       "      <td>...</td>\n",
       "    </tr>\n",
       "    <tr>\n",
       "      <th>195</th>\n",
       "      <td>Is Disability Insurance The Same As Workers Co...</td>\n",
       "      <td>Is Workers Compensation and Disability Insuran...</td>\n",
       "      <td>1</td>\n",
       "      <td>[is, disability, insurance, the, same, as, wor...</td>\n",
       "      <td>[is, workers, compensation, and, disability, i...</td>\n",
       "    </tr>\n",
       "    <tr>\n",
       "      <th>196</th>\n",
       "      <td>How Much To Budget For Homeowners Insurance?</td>\n",
       "      <td>What Is Good Renters Insurance?</td>\n",
       "      <td>0</td>\n",
       "      <td>[how, much, to, budget, for, homeowners, insur...</td>\n",
       "      <td>[what, is, good, renters, insurance]</td>\n",
       "    </tr>\n",
       "    <tr>\n",
       "      <th>197</th>\n",
       "      <td>Why Is Boys Car Insurance Higher?</td>\n",
       "      <td>Why Does Boy's Auto Insurance Cost More?</td>\n",
       "      <td>1</td>\n",
       "      <td>[why, is, boys, car, insurance, higher]</td>\n",
       "      <td>[why, does, boy, auto, insurance, cost, more]</td>\n",
       "    </tr>\n",
       "    <tr>\n",
       "      <th>198</th>\n",
       "      <td>How Much Does Life Insurance Typically Cost?</td>\n",
       "      <td>How Much Is The Average Cost of Life Insurance?</td>\n",
       "      <td>1</td>\n",
       "      <td>[how, much, does, life, insurance, typically, ...</td>\n",
       "      <td>[how, much, is, the, average, cost, of, life, ...</td>\n",
       "    </tr>\n",
       "    <tr>\n",
       "      <th>199</th>\n",
       "      <td>Who Sells Short Term Disability Insurance?</td>\n",
       "      <td>Who Offers Insurance for Short-Term Disability?</td>\n",
       "      <td>1</td>\n",
       "      <td>[who, sells, short, term, disability, insurance]</td>\n",
       "      <td>[who, offers, insurance, for, short, term, dis...</td>\n",
       "    </tr>\n",
       "  </tbody>\n",
       "</table>\n",
       "<p>200 rows × 5 columns</p>\n",
       "</div>"
      ],
      "text/plain": [
       "                                              Question  \\\n",
       "0    How Much Can You Borrow From Your Life Insuran...   \n",
       "1      Can I Get Life Insurance If I Have Lung Cancer?   \n",
       "2                Does Medicaid Pay Part B Of Medicare?   \n",
       "3             Does Health Insurance Increase With Age?   \n",
       "4            How Much Life Insurance Should You Carry?   \n",
       "..                                                 ...   \n",
       "195  Is Disability Insurance The Same As Workers Co...   \n",
       "196       How Much To Budget For Homeowners Insurance?   \n",
       "197                  Why Is Boys Car Insurance Higher?   \n",
       "198       How Much Does Life Insurance Typically Cost?   \n",
       "199         Who Sells Short Term Disability Insurance?   \n",
       "\n",
       "                                    Similar/Dissimilar  Output  \\\n",
       "0    How much of your life insurance policy may you...       1   \n",
       "1        Can The IRS Go After Life Insurance Proceeds?       0   \n",
       "2                 Does Medicaid Cover Medicare Part B?       1   \n",
       "3        Does Age Affect the Cost of Health Insurance?       1   \n",
       "4            What Level of Life Insurance Is Adequate?       1   \n",
       "..                                                 ...     ...   \n",
       "195  Is Workers Compensation and Disability Insuran...       1   \n",
       "196                    What Is Good Renters Insurance?       0   \n",
       "197           Why Does Boy's Auto Insurance Cost More?       1   \n",
       "198    How Much Is The Average Cost of Life Insurance?       1   \n",
       "199    Who Offers Insurance for Short-Term Disability?       1   \n",
       "\n",
       "                                    Question_processed  \\\n",
       "0    [how, much, can, you, borrow, from, your, life...   \n",
       "1    [can, get, life, insurance, if, have, lung, ca...   \n",
       "2            [does, medicaid, pay, part, of, medicare]   \n",
       "3       [does, health, insurance, increase, with, age]   \n",
       "4     [how, much, life, insurance, should, you, carry]   \n",
       "..                                                 ...   \n",
       "195  [is, disability, insurance, the, same, as, wor...   \n",
       "196  [how, much, to, budget, for, homeowners, insur...   \n",
       "197            [why, is, boys, car, insurance, higher]   \n",
       "198  [how, much, does, life, insurance, typically, ...   \n",
       "199   [who, sells, short, term, disability, insurance]   \n",
       "\n",
       "                          Similar/Dissimilar_processed  \n",
       "0    [how, much, of, your, life, insurance, policy,...  \n",
       "1    [can, the, irs, go, after, life, insurance, pr...  \n",
       "2              [does, medicaid, cover, medicare, part]  \n",
       "3    [does, age, affect, the, cost, of, health, ins...  \n",
       "4     [what, level, of, life, insurance, is, adequate]  \n",
       "..                                                 ...  \n",
       "195  [is, workers, compensation, and, disability, i...  \n",
       "196               [what, is, good, renters, insurance]  \n",
       "197      [why, does, boy, auto, insurance, cost, more]  \n",
       "198  [how, much, is, the, average, cost, of, life, ...  \n",
       "199  [who, offers, insurance, for, short, term, dis...  \n",
       "\n",
       "[200 rows x 5 columns]"
      ]
     },
     "execution_count": 10,
     "metadata": {},
     "output_type": "execute_result"
    }
   ],
   "source": [
    "training_dataset"
   ]
  },
  {
   "cell_type": "markdown",
   "id": "2a39022f-f05c-41b5-8e74-6da6a9d9616a",
   "metadata": {},
   "source": [
    "### Load a Word2Vec Model"
   ]
  },
  {
   "cell_type": "code",
   "execution_count": 11,
   "id": "d9e0f7c3-7e62-4b59-ad05-8484a2195b46",
   "metadata": {},
   "outputs": [],
   "source": [
    "from gensim.models import KeyedVectors"
   ]
  },
  {
   "cell_type": "code",
   "execution_count": 12,
   "id": "8769adf1-15d3-4a96-95d4-379243864919",
   "metadata": {},
   "outputs": [],
   "source": [
    "# load pre-trained Word2Vec model -> download from https://code.google.com/archive/p/word2vec/\n",
    "word2vec_model = KeyedVectors.load_word2vec_format('~/DEV/envs/pmf-projekat/GoogleNews-vectors-negative300.bin', binary=True)"
   ]
  },
  {
   "cell_type": "markdown",
   "id": "52516821-5714-4e8c-9560-301f5bc9c22d",
   "metadata": {},
   "source": [
    "### Transform Text to Vectors"
   ]
  },
  {
   "cell_type": "code",
   "execution_count": 13,
   "id": "d7baf3b9-bcb5-41b2-bc91-0a08ce0ce86d",
   "metadata": {},
   "outputs": [],
   "source": [
    "def get_average_vector(tokens, model): # function to vectorize words\n",
    "    vectors = [model[token] for token in tokens if token in model]\n",
    "    if len(vectors) == 0:\n",
    "        return np.zeros(model.vector_size)\n",
    "    return np.mean(vectors, axis=0)"
   ]
  },
  {
   "cell_type": "code",
   "execution_count": 14,
   "id": "aac0776e-e38a-444f-8fed-ac75ba76ccd2",
   "metadata": {},
   "outputs": [
    {
     "data": {
      "text/html": [
       "<div>\n",
       "<style scoped>\n",
       "    .dataframe tbody tr th:only-of-type {\n",
       "        vertical-align: middle;\n",
       "    }\n",
       "\n",
       "    .dataframe tbody tr th {\n",
       "        vertical-align: top;\n",
       "    }\n",
       "\n",
       "    .dataframe thead th {\n",
       "        text-align: right;\n",
       "    }\n",
       "</style>\n",
       "<table border=\"1\" class=\"dataframe\">\n",
       "  <thead>\n",
       "    <tr style=\"text-align: right;\">\n",
       "      <th></th>\n",
       "      <th>Question_vector</th>\n",
       "      <th>Similar/Dissimilar_vector</th>\n",
       "      <th>Output</th>\n",
       "    </tr>\n",
       "  </thead>\n",
       "  <tbody>\n",
       "    <tr>\n",
       "      <th>0</th>\n",
       "      <td>[0.11574707, 0.03118372, 0.04538574, 0.2177246...</td>\n",
       "      <td>[0.11794705, 0.04127333, 0.039252385, 0.254340...</td>\n",
       "      <td>1</td>\n",
       "    </tr>\n",
       "    <tr>\n",
       "      <th>1</th>\n",
       "      <td>[-0.014434814, 0.047546387, 0.011581421, 0.126...</td>\n",
       "      <td>[0.075164795, 0.028930664, 0.0839386, 0.129486...</td>\n",
       "      <td>0</td>\n",
       "    </tr>\n",
       "    <tr>\n",
       "      <th>2</th>\n",
       "      <td>[0.044830322, -0.022033691, 0.13494873, 0.2827...</td>\n",
       "      <td>[0.04151001, 0.0076171877, 0.15115967, 0.23105...</td>\n",
       "      <td>1</td>\n",
       "    </tr>\n",
       "    <tr>\n",
       "      <th>3</th>\n",
       "      <td>[0.03894043, 0.052286785, -0.020385742, 0.1126...</td>\n",
       "      <td>[0.06964983, 0.05988421, 0.031354632, 0.053048...</td>\n",
       "      <td>1</td>\n",
       "    </tr>\n",
       "    <tr>\n",
       "      <th>4</th>\n",
       "      <td>[0.09109933, 0.050598145, 0.0584586, 0.1593191...</td>\n",
       "      <td>[-0.051274616, 0.0046564736, 0.055216473, 0.07...</td>\n",
       "      <td>1</td>\n",
       "    </tr>\n",
       "    <tr>\n",
       "      <th>...</th>\n",
       "      <td>...</td>\n",
       "      <td>...</td>\n",
       "      <td>...</td>\n",
       "    </tr>\n",
       "    <tr>\n",
       "      <th>195</th>\n",
       "      <td>[0.07375717, -0.015579224, 0.008071899, 0.1252...</td>\n",
       "      <td>[0.09893417, -0.017501831, 0.02583313, 0.13865...</td>\n",
       "      <td>1</td>\n",
       "    </tr>\n",
       "    <tr>\n",
       "      <th>196</th>\n",
       "      <td>[0.175649, 0.037826538, 0.022176107, 0.1197102...</td>\n",
       "      <td>[0.10663452, -0.0136352535, 0.028833007, 0.076...</td>\n",
       "      <td>0</td>\n",
       "    </tr>\n",
       "    <tr>\n",
       "      <th>197</th>\n",
       "      <td>[0.028518677, 0.016662598, 0.069234215, 0.0493...</td>\n",
       "      <td>[0.14561245, 0.024239676, 0.07048689, 0.083722...</td>\n",
       "      <td>1</td>\n",
       "    </tr>\n",
       "    <tr>\n",
       "      <th>198</th>\n",
       "      <td>[0.13026646, 0.046805244, 0.008475168, 0.12974...</td>\n",
       "      <td>[0.08953476, 0.021514893, 0.022491455, 0.10862...</td>\n",
       "      <td>1</td>\n",
       "    </tr>\n",
       "    <tr>\n",
       "      <th>199</th>\n",
       "      <td>[0.022583008, -0.027832031, -0.071390785, 0.12...</td>\n",
       "      <td>[-0.029898508, -0.011858259, -0.059273858, 0.1...</td>\n",
       "      <td>1</td>\n",
       "    </tr>\n",
       "  </tbody>\n",
       "</table>\n",
       "<p>200 rows × 3 columns</p>\n",
       "</div>"
      ],
      "text/plain": [
       "                                       Question_vector  \\\n",
       "0    [0.11574707, 0.03118372, 0.04538574, 0.2177246...   \n",
       "1    [-0.014434814, 0.047546387, 0.011581421, 0.126...   \n",
       "2    [0.044830322, -0.022033691, 0.13494873, 0.2827...   \n",
       "3    [0.03894043, 0.052286785, -0.020385742, 0.1126...   \n",
       "4    [0.09109933, 0.050598145, 0.0584586, 0.1593191...   \n",
       "..                                                 ...   \n",
       "195  [0.07375717, -0.015579224, 0.008071899, 0.1252...   \n",
       "196  [0.175649, 0.037826538, 0.022176107, 0.1197102...   \n",
       "197  [0.028518677, 0.016662598, 0.069234215, 0.0493...   \n",
       "198  [0.13026646, 0.046805244, 0.008475168, 0.12974...   \n",
       "199  [0.022583008, -0.027832031, -0.071390785, 0.12...   \n",
       "\n",
       "                             Similar/Dissimilar_vector  Output  \n",
       "0    [0.11794705, 0.04127333, 0.039252385, 0.254340...       1  \n",
       "1    [0.075164795, 0.028930664, 0.0839386, 0.129486...       0  \n",
       "2    [0.04151001, 0.0076171877, 0.15115967, 0.23105...       1  \n",
       "3    [0.06964983, 0.05988421, 0.031354632, 0.053048...       1  \n",
       "4    [-0.051274616, 0.0046564736, 0.055216473, 0.07...       1  \n",
       "..                                                 ...     ...  \n",
       "195  [0.09893417, -0.017501831, 0.02583313, 0.13865...       1  \n",
       "196  [0.10663452, -0.0136352535, 0.028833007, 0.076...       0  \n",
       "197  [0.14561245, 0.024239676, 0.07048689, 0.083722...       1  \n",
       "198  [0.08953476, 0.021514893, 0.022491455, 0.10862...       1  \n",
       "199  [-0.029898508, -0.011858259, -0.059273858, 0.1...       1  \n",
       "\n",
       "[200 rows x 3 columns]"
      ]
     },
     "execution_count": 14,
     "metadata": {},
     "output_type": "execute_result"
    }
   ],
   "source": [
    "training_dataset['Question_vector'] = training_dataset['Question_processed'].apply(lambda x: get_average_vector(x, word2vec_model))\n",
    "training_dataset['Similar/Dissimilar_vector'] = training_dataset['Similar/Dissimilar_processed'].apply(lambda x: get_average_vector(x, word2vec_model))\n",
    "\n",
    "def vectors_to_dataframe(vectors): # we convert vectors to a pandas df\n",
    "    return pd.DataFrame(vectors.tolist())\n",
    "\n",
    "question_vectors_df = vectors_to_dataframe(training_dataset['Question_vector'])\n",
    "similar_dissimilar_vectors_df = vectors_to_dataframe(training_dataset['Similar/Dissimilar_vector'])\n",
    "\n",
    "training_dataset_with_vectors = pd.concat([training_dataset, question_vectors_df, similar_dissimilar_vectors_df], axis=1)\n",
    "\n",
    "training_dataset_with_vectors.drop(['Question', 'Similar/Dissimilar', 'Question_processed', 'Similar/Dissimilar_processed'], axis=1, inplace=True)\n",
    "training_dataset_for_siamese = training_dataset_with_vectors[['Question_vector', 'Similar/Dissimilar_vector', 'Output']]\n",
    "training_dataset_for_siamese"
   ]
  },
  {
   "cell_type": "code",
   "execution_count": 15,
   "id": "9c8a6d5e-3788-4467-8024-9001cd24d245",
   "metadata": {},
   "outputs": [
    {
     "name": "stderr",
     "output_type": "stream",
     "text": [
      "/var/folders/l5/vt4s9nzd5zs4k5xmmxjxh1_w0000gn/T/ipykernel_4428/339703309.py:1: FutureWarning: Series.__getitem__ treating keys as positions is deprecated. In a future version, integer keys will always be treated as labels (consistent with DataFrame behavior). To access a value by position, use `ser.iloc[pos]`\n",
      "  training_dataset_for_siamese.iloc[150][1].shape # we explore one item in our vectorized dataset\n"
     ]
    },
    {
     "data": {
      "text/plain": [
       "(300,)"
      ]
     },
     "execution_count": 15,
     "metadata": {},
     "output_type": "execute_result"
    }
   ],
   "source": [
    "training_dataset_for_siamese.iloc[150][1].shape # we explore one item in our vectorized dataset"
   ]
  },
  {
   "cell_type": "code",
   "execution_count": 16,
   "id": "2035e5f4-9fc9-4ef5-a4f2-d2e57ca8faeb",
   "metadata": {},
   "outputs": [
    {
     "name": "stderr",
     "output_type": "stream",
     "text": [
      "/var/folders/l5/vt4s9nzd5zs4k5xmmxjxh1_w0000gn/T/ipykernel_4428/1337258343.py:1: FutureWarning: Series.__getitem__ treating keys as positions is deprecated. In a future version, integer keys will always be treated as labels (consistent with DataFrame behavior). To access a value by position, use `ser.iloc[pos]`\n",
      "  training_dataset_for_siamese.iloc[150][1]\n"
     ]
    },
    {
     "data": {
      "text/plain": [
       "array([ 6.79524764e-02,  5.03859520e-02,  2.80965175e-02,  4.95198555e-02,\n",
       "        6.84102401e-02, -3.18400078e-02, -4.67936210e-02, -4.32942696e-02,\n",
       "        1.38346359e-01,  7.63549805e-02,  9.47672501e-02,  5.49316406e-04,\n",
       "       -1.12406410e-01,  7.46459961e-02, -8.94368514e-02, -1.74357090e-02,\n",
       "        1.79819748e-01,  9.49401855e-02, -2.67130528e-02, -9.79668275e-02,\n",
       "       -3.20383720e-02,  4.94384766e-02,  4.59187813e-02,  1.34684248e-02,\n",
       "        9.81623307e-02,  5.12695312e-03, -4.60713692e-02,  6.81864396e-02,\n",
       "       -9.19189453e-02, -8.04901123e-04, -1.27766924e-02,  9.01285838e-03,\n",
       "       -1.92260742e-02, -8.63707885e-02, -3.01920567e-02,  2.47802734e-02,\n",
       "        8.78601074e-02,  6.87662745e-03, -3.70279960e-02,  5.10253906e-02,\n",
       "       -4.18294258e-02,  2.44954433e-02,  1.14176430e-01,  7.74943009e-02,\n",
       "       -1.38468429e-01, -1.32573441e-01, -1.24944048e-02, -2.86661778e-02,\n",
       "        3.83809395e-02, -6.25000000e-02,  7.95288086e-02, -3.14432792e-02,\n",
       "       -1.10646568e-01,  1.30249023e-01, -1.12223305e-01,  2.23795567e-02,\n",
       "       -1.46891281e-01, -5.53385429e-02, -5.91634102e-02, -1.31184891e-01,\n",
       "        5.00488281e-03,  2.97444668e-02, -6.10758476e-02, -1.11083984e-01,\n",
       "       -7.63193741e-02,  4.08566780e-02, -3.27148438e-02,  1.16231285e-01,\n",
       "       -8.63443986e-02,  1.05977379e-01, -5.48909493e-02, -6.31713867e-02,\n",
       "        1.05194092e-01,  1.14135742e-02, -1.16984047e-01, -6.41276017e-02,\n",
       "        8.33943710e-02,  7.11873397e-02, -6.58162460e-02,  8.45947266e-02,\n",
       "        1.45874023e-02, -4.31315117e-02, -9.05965194e-02,  1.65608719e-01,\n",
       "       -6.01196289e-02, -7.56429061e-02, -2.03206375e-01,  9.82259139e-02,\n",
       "       -1.15885414e-01, -1.02101646e-01,  1.57368984e-02,  8.50423146e-03,\n",
       "       -4.18294258e-02, -5.61930351e-02,  7.89998397e-02, -6.04654960e-02,\n",
       "        1.10766090e-01, -5.07202148e-02,  4.55525704e-02, -4.28873710e-02,\n",
       "       -1.03759766e-02, -9.36279297e-02,  1.09171547e-01,  1.22456871e-01,\n",
       "        2.29644775e-02, -6.42204285e-02,  4.80397530e-02, -8.28653947e-02,\n",
       "        1.37776688e-01, -6.52008057e-02,  9.31803416e-03,  3.95914726e-02,\n",
       "       -6.05061837e-02,  5.16866036e-02, -1.17390947e-02,  7.42797852e-02,\n",
       "        3.17382812e-03,  1.80664062e-02,  1.15234375e-01,  1.36505127e-01,\n",
       "       -7.86132812e-02,  1.06384277e-01, -6.30289689e-02, -1.54825849e-02,\n",
       "        1.66422520e-02,  1.57674149e-04,  1.15915937e-02, -8.87247697e-02,\n",
       "        5.47892265e-02,  6.34104386e-02,  4.70377617e-02, -1.70410156e-01,\n",
       "       -1.30503342e-01, -1.74845383e-01, -2.04528809e-01, -1.49983719e-01,\n",
       "       -4.72819023e-02,  1.71712246e-02, -1.67622879e-01,  1.11246742e-01,\n",
       "        8.43098983e-02, -3.64990234e-02, -4.82940674e-02,  9.92838517e-02,\n",
       "       -1.99381504e-02, -1.57663986e-01,  4.90722656e-02, -2.33764648e-02,\n",
       "       -6.10351562e-02,  6.86238632e-02,  9.67966691e-02, -2.89103184e-02,\n",
       "       -2.74454746e-02,  1.04276024e-01,  1.04573565e-02,  1.88903809e-02,\n",
       "       -1.22599281e-01, -4.73683663e-02,  6.38885498e-02, -1.12823486e-01,\n",
       "       -1.63574219e-02,  8.67106095e-02,  8.92944336e-02,  1.90734863e-02,\n",
       "       -8.54085311e-02, -6.07096367e-02, -4.55678292e-02, -6.30696595e-04,\n",
       "       -2.97037754e-02,  6.41784668e-02, -9.52148438e-02, -5.65185547e-02,\n",
       "       -4.23583984e-02, -1.67399094e-01, -9.66796875e-02, -1.13321943e-02,\n",
       "        8.21533203e-02,  2.37630215e-02, -5.77265434e-02,  1.01013184e-02,\n",
       "       -1.47074386e-01, -1.59790039e-01, -1.15559893e-02,  3.83605957e-02,\n",
       "       -1.49739580e-02,  1.61336269e-02, -6.90739974e-02,  1.38142899e-01,\n",
       "        1.05407715e-01,  2.14233398e-02,  4.97436523e-02,  5.08219413e-02,\n",
       "       -1.64367676e-01,  3.28369141e-02, -2.66520176e-02,  5.61981201e-02,\n",
       "       -2.99682617e-02, -4.98046875e-02, -1.78222656e-02, -1.26335144e-01,\n",
       "       -1.38605759e-01, -1.13779707e-02,  1.01033531e-01, -2.26338711e-02,\n",
       "        2.81575527e-02, -6.91731796e-02, -6.68144226e-02, -9.15730819e-02,\n",
       "        3.35286446e-02, -1.69031784e-01, -4.27449532e-02,  5.96110038e-02,\n",
       "       -1.10738121e-01,  8.20312500e-02, -1.26342773e-02,  8.56526662e-03,\n",
       "       -5.30802421e-02,  7.42390975e-02, -1.16007484e-01, -1.32731125e-01,\n",
       "        2.29695644e-02, -1.49536133e-02,  3.07413731e-02, -1.09186806e-01,\n",
       "       -1.05183916e-02, -9.58404541e-02,  4.58831787e-02,  1.45467119e-02,\n",
       "        4.83805351e-02, -5.28971374e-04,  1.23779297e-01, -6.88680038e-02,\n",
       "        1.01745605e-01, -1.20849609e-02, -8.91316757e-02, -1.64998379e-02,\n",
       "        1.90022793e-02, -4.81160469e-02,  6.95597306e-02, -1.79036465e-02,\n",
       "        4.67936210e-02, -1.19628906e-02,  1.32568359e-01,  1.78222656e-02,\n",
       "       -2.69165039e-02,  2.04833984e-01,  8.49304199e-02, -1.88242588e-02,\n",
       "        3.73128243e-02, -1.19384766e-01, -1.66829433e-02, -1.36678055e-01,\n",
       "       -1.91650391e-02, -4.34977226e-02, -4.22159843e-02,  2.18912754e-02,\n",
       "        4.69156913e-02,  8.82619247e-02, -4.57763672e-02,  1.19974770e-01,\n",
       "       -9.36889648e-03, -1.06201172e-02, -9.37500000e-02,  1.33626297e-01,\n",
       "        3.57564278e-02,  6.57164231e-02,  6.44938126e-02,  7.93609619e-02,\n",
       "       -6.56738281e-02, -8.03222656e-02, -5.43619804e-02,  9.31803361e-02,\n",
       "        3.06447353e-02,  5.69661474e-03,  9.60286483e-02,  2.81778979e-03,\n",
       "       -1.77408848e-02, -2.87526455e-02,  1.38956709e-02,  4.72005196e-02,\n",
       "       -4.13004570e-02, -6.81152344e-02,  5.46468087e-02,  9.20817032e-02,\n",
       "       -1.48223877e-01, -6.27237931e-02, -5.96110038e-02,  3.47086601e-02,\n",
       "        1.27563477e-02,  3.03141284e-03, -3.64869423e-02,  5.21850586e-02,\n",
       "       -7.17175826e-02, -3.88997383e-02, -1.10392250e-01,  8.17464218e-02,\n",
       "        2.93172207e-02,  1.09476723e-01, -5.20197535e-03, -3.68448906e-02],\n",
       "      dtype=float32)"
      ]
     },
     "execution_count": 16,
     "metadata": {},
     "output_type": "execute_result"
    }
   ],
   "source": [
    "training_dataset_for_siamese.iloc[150][1]"
   ]
  },
  {
   "cell_type": "markdown",
   "id": "bc84d8c3-3c8a-423a-87f5-9acd68fe8325",
   "metadata": {},
   "source": [
    "### Modeling"
   ]
  },
  {
   "cell_type": "code",
   "execution_count": 17,
   "id": "bc6c17f8-8efa-49c0-b9e7-3ae9711cfeb2",
   "metadata": {},
   "outputs": [],
   "source": [
    "from tensorflow.keras.layers import Input, Dense, Subtract, Multiply, Lambda\n",
    "from tensorflow.keras.models import Model, Sequential"
   ]
  },
  {
   "cell_type": "markdown",
   "id": "796e1418-a4a5-4280-ad9c-c9dadb0b744c",
   "metadata": {},
   "source": [
    "### Define the Base Network"
   ]
  },
  {
   "cell_type": "code",
   "execution_count": 18,
   "id": "eac92817-a732-4087-a6ef-669e2b57192c",
   "metadata": {},
   "outputs": [],
   "source": [
    "def create_base_network(input_shape):\n",
    "    model = Sequential()\n",
    "    model.add(Input(shape=input_shape))\n",
    "    model.add(Dense(128, activation='relu'))\n",
    "    model.add(Dense(128, activation='relu'))\n",
    "    model.add(Dense(128, activation='relu'))\n",
    "    return model"
   ]
  },
  {
   "cell_type": "markdown",
   "id": "bd48277f-8c46-4710-8001-68639e8061f5",
   "metadata": {},
   "source": [
    "### Define the Siamese Network"
   ]
  },
  {
   "cell_type": "code",
   "execution_count": 19,
   "id": "f5c1c983-b514-493f-b438-ddb569ec3796",
   "metadata": {},
   "outputs": [],
   "source": [
    "def create_siamese_network(input_shape):\n",
    "    input_a = Input(shape=input_shape) # tensor for the input vector a\n",
    "    input_b = Input(shape=input_shape) # tensor for the input vector b\n",
    "     \n",
    "    base_network = create_base_network(input_shape) # base network which shares weights\n",
    "    \n",
    "    processed_a = base_network(input_a) # processing of input a through the base network\n",
    "    processed_b = base_network(input_b) # processing of input b through the base network\n",
    "\n",
    "    # now we need to capture the relationship between the two input vectors\n",
    "    diff = Subtract()([processed_a, processed_b]) # element wise absolute difference between the processed vectors\n",
    "    prod = Multiply()([processed_a, processed_b]) # element wise product of the processed vectors\n",
    "    concat = tf.keras.layers.Concatenate()([diff, prod]) # concatenating the difference and product (to consider them both)\n",
    "    \n",
    "    final_network = Sequential() # defining the final part of the network\n",
    "    final_network.add(Dense(128, activation='relu', input_shape=(concat.shape[-1],)))  # First dense layer\n",
    "    final_network.add(Dense(128, activation='relu'))  # Second dense layer\n",
    "    final_network.add(Dense(1, activation='sigmoid'))  # Final sigmoid layer for output\n",
    "\n",
    "    output = final_network(concat) # output layer\n",
    "\n",
    "    siamese_network = Model(inputs=[input_a, input_b], outputs=output) # creating the siamese network model\n",
    "    return siamese_network"
   ]
  },
  {
   "cell_type": "markdown",
   "id": "fafa15df-3943-4339-bcb6-070ad27d92af",
   "metadata": {},
   "source": [
    "### Compile the Model"
   ]
  },
  {
   "cell_type": "code",
   "execution_count": 20,
   "id": "21000880-1e9e-4e55-b3f7-804d651d2a86",
   "metadata": {},
   "outputs": [
    {
     "name": "stderr",
     "output_type": "stream",
     "text": [
      "2024-08-11 16:10:32.032574: I tensorflow/core/platform/cpu_feature_guard.cc:193] This TensorFlow binary is optimized with oneAPI Deep Neural Network Library (oneDNN) to use the following CPU instructions in performance-critical operations:  AVX2 FMA\n",
      "To enable them in other operations, rebuild TensorFlow with the appropriate compiler flags.\n"
     ]
    },
    {
     "name": "stdout",
     "output_type": "stream",
     "text": [
      "Model: \"model\"\n",
      "__________________________________________________________________________________________________\n",
      " Layer (type)                   Output Shape         Param #     Connected to                     \n",
      "==================================================================================================\n",
      " input_1 (InputLayer)           [(None, 300)]        0           []                               \n",
      "                                                                                                  \n",
      " input_2 (InputLayer)           [(None, 300)]        0           []                               \n",
      "                                                                                                  \n",
      " sequential (Sequential)        (None, 128)          71552       ['input_1[0][0]',                \n",
      "                                                                  'input_2[0][0]']                \n",
      "                                                                                                  \n",
      " subtract (Subtract)            (None, 128)          0           ['sequential[0][0]',             \n",
      "                                                                  'sequential[1][0]']             \n",
      "                                                                                                  \n",
      " multiply (Multiply)            (None, 128)          0           ['sequential[0][0]',             \n",
      "                                                                  'sequential[1][0]']             \n",
      "                                                                                                  \n",
      " concatenate (Concatenate)      (None, 256)          0           ['subtract[0][0]',               \n",
      "                                                                  'multiply[0][0]']               \n",
      "                                                                                                  \n",
      " sequential_1 (Sequential)      (None, 1)            49537       ['concatenate[0][0]']            \n",
      "                                                                                                  \n",
      "==================================================================================================\n",
      "Total params: 121,089\n",
      "Trainable params: 121,089\n",
      "Non-trainable params: 0\n",
      "__________________________________________________________________________________________________\n"
     ]
    }
   ],
   "source": [
    "input_shape = (300,) # vector length of 300\n",
    "siamese_network = create_siamese_network(input_shape)\n",
    "siamese_network.compile(optimizer='adam', loss='binary_crossentropy', metrics=['accuracy'])\n",
    "siamese_network.summary()"
   ]
  },
  {
   "cell_type": "markdown",
   "id": "2fc27359-50ff-4228-84ca-4f2829a5c496",
   "metadata": {},
   "source": [
    "### Prepare dataset for training"
   ]
  },
  {
   "cell_type": "code",
   "execution_count": 21,
   "id": "31453877-f6b2-439c-b8be-2462dd111c61",
   "metadata": {},
   "outputs": [],
   "source": [
    "from sklearn.model_selection import train_test_split"
   ]
  },
  {
   "cell_type": "code",
   "execution_count": 22,
   "id": "22240016-e668-42b7-b478-0116aa586579",
   "metadata": {},
   "outputs": [],
   "source": [
    "question_vectors = np.array(training_dataset_for_siamese['Question_vector'].tolist()) # extract question vectors\n",
    "similar_vectors = np.array(training_dataset_for_siamese['Similar/Dissimilar_vector'].tolist()) # extract similar/dissimilar vectors\n",
    "labels = np.array(training_dataset_for_siamese['Output'].tolist()) # extract labels\n",
    "\n",
    "X_train_q, X_val_q, X_train_s, X_val_s, y_train, y_val = train_test_split(\n",
    "    question_vectors, similar_vectors, labels, test_size=0.2, random_state=33) # split the dataset into training and validation sets\n",
    "\n",
    "X_train_1 = np.array(X_train_q)\n",
    "X_train_2 = np.array(X_train_s)\n",
    "X_val_1 = np.array(X_val_q)\n",
    "X_val_2 = np.array(X_val_s)"
   ]
  },
  {
   "cell_type": "markdown",
   "id": "406ecad8-c96e-40ee-a957-880c4556e426",
   "metadata": {},
   "source": [
    "### Train the model"
   ]
  },
  {
   "cell_type": "code",
   "execution_count": 23,
   "id": "1fa87caf-f057-46bf-9f29-1d35c99a8c4b",
   "metadata": {},
   "outputs": [
    {
     "name": "stdout",
     "output_type": "stream",
     "text": [
      "Epoch 1/20\n",
      "5/5 [==============================] - 1s 45ms/step - loss: 0.6914 - accuracy: 0.5688 - val_loss: 0.6957 - val_accuracy: 0.3250\n",
      "Epoch 2/20\n",
      "5/5 [==============================] - 0s 7ms/step - loss: 0.6782 - accuracy: 0.6187 - val_loss: 0.6991 - val_accuracy: 0.3000\n",
      "Epoch 3/20\n",
      "5/5 [==============================] - 0s 9ms/step - loss: 0.6509 - accuracy: 0.5750 - val_loss: 0.7025 - val_accuracy: 0.3000\n",
      "Epoch 4/20\n",
      "5/5 [==============================] - 0s 7ms/step - loss: 0.5952 - accuracy: 0.7000 - val_loss: 0.6995 - val_accuracy: 0.4750\n",
      "Epoch 5/20\n",
      "5/5 [==============================] - 0s 7ms/step - loss: 0.5066 - accuracy: 0.7625 - val_loss: 0.6792 - val_accuracy: 0.6250\n",
      "Epoch 6/20\n",
      "5/5 [==============================] - 0s 7ms/step - loss: 0.3840 - accuracy: 0.9000 - val_loss: 0.6022 - val_accuracy: 0.7000\n",
      "Epoch 7/20\n",
      "5/5 [==============================] - 0s 7ms/step - loss: 0.2683 - accuracy: 0.9250 - val_loss: 0.5609 - val_accuracy: 0.7000\n",
      "Epoch 8/20\n",
      "5/5 [==============================] - 0s 7ms/step - loss: 0.1599 - accuracy: 0.9750 - val_loss: 0.5607 - val_accuracy: 0.7250\n",
      "Epoch 9/20\n",
      "5/5 [==============================] - 0s 9ms/step - loss: 0.1030 - accuracy: 0.9688 - val_loss: 0.7580 - val_accuracy: 0.7250\n",
      "Epoch 10/20\n",
      "5/5 [==============================] - 0s 9ms/step - loss: 0.0559 - accuracy: 0.9875 - val_loss: 0.7796 - val_accuracy: 0.6750\n",
      "Epoch 11/20\n",
      "5/5 [==============================] - 0s 8ms/step - loss: 0.0266 - accuracy: 1.0000 - val_loss: 0.6621 - val_accuracy: 0.8000\n",
      "Epoch 12/20\n",
      "5/5 [==============================] - 0s 7ms/step - loss: 0.0155 - accuracy: 0.9937 - val_loss: 0.8014 - val_accuracy: 0.7750\n",
      "Epoch 13/20\n",
      "5/5 [==============================] - 0s 7ms/step - loss: 0.0039 - accuracy: 1.0000 - val_loss: 0.9561 - val_accuracy: 0.7750\n",
      "Epoch 14/20\n",
      "5/5 [==============================] - 0s 7ms/step - loss: 0.0022 - accuracy: 1.0000 - val_loss: 1.0971 - val_accuracy: 0.7750\n",
      "Epoch 15/20\n",
      "5/5 [==============================] - 0s 7ms/step - loss: 0.0012 - accuracy: 1.0000 - val_loss: 1.1795 - val_accuracy: 0.7500\n",
      "Epoch 16/20\n",
      "5/5 [==============================] - 0s 7ms/step - loss: 8.4433e-04 - accuracy: 1.0000 - val_loss: 1.2432 - val_accuracy: 0.7500\n",
      "Epoch 17/20\n",
      "5/5 [==============================] - 0s 6ms/step - loss: 6.1593e-04 - accuracy: 1.0000 - val_loss: 1.2877 - val_accuracy: 0.7500\n",
      "Epoch 18/20\n",
      "5/5 [==============================] - 0s 7ms/step - loss: 4.9115e-04 - accuracy: 1.0000 - val_loss: 1.3196 - val_accuracy: 0.7500\n",
      "Epoch 19/20\n",
      "5/5 [==============================] - 0s 9ms/step - loss: 3.9761e-04 - accuracy: 1.0000 - val_loss: 1.3420 - val_accuracy: 0.7500\n",
      "Epoch 20/20\n",
      "5/5 [==============================] - 0s 7ms/step - loss: 3.2904e-04 - accuracy: 1.0000 - val_loss: 1.3610 - val_accuracy: 0.7500\n"
     ]
    },
    {
     "data": {
      "text/plain": [
       "<keras.callbacks.History at 0x177d59eb0>"
      ]
     },
     "execution_count": 23,
     "metadata": {},
     "output_type": "execute_result"
    }
   ],
   "source": [
    "siamese_network.fit([X_train_1, X_train_2], y_train, \n",
    "                    validation_data=([X_val_1, X_val_2], y_val), \n",
    "                    epochs=20, batch_size=32)"
   ]
  },
  {
   "cell_type": "markdown",
   "id": "25028ee2-96f4-41e5-b307-c1a8ae5c154b",
   "metadata": {},
   "source": [
    "### Evaluate the Model"
   ]
  },
  {
   "cell_type": "code",
   "execution_count": 24,
   "id": "e830ba51-fd22-4fb0-889e-a7695b43f921",
   "metadata": {},
   "outputs": [
    {
     "name": "stdout",
     "output_type": "stream",
     "text": [
      "2/2 [==============================] - 0s 2ms/step - loss: 1.3610 - accuracy: 0.7500\n",
      "Validation Loss: 1.3609721660614014\n",
      "Validation Accuracy: 0.75\n"
     ]
    }
   ],
   "source": [
    "loss, accuracy = siamese_network.evaluate([X_val_1, X_val_2], y_val)\n",
    "print(f'Validation Loss: {loss}')\n",
    "print(f'Validation Accuracy: {accuracy}')"
   ]
  },
  {
   "cell_type": "markdown",
   "id": "3d24a790-c009-413e-a8ca-946f823e64e5",
   "metadata": {},
   "source": [
    "### Save model weights"
   ]
  },
  {
   "cell_type": "code",
   "execution_count": 25,
   "id": "b4d0d4bd-af34-4f3f-948d-3c2c95ea3586",
   "metadata": {},
   "outputs": [],
   "source": [
    "siamese_network.save('model/siamese_model.h5')"
   ]
  },
  {
   "cell_type": "markdown",
   "id": "80db18b0-ddf8-40de-91d8-6aa1fed6dd80",
   "metadata": {},
   "source": [
    "### Using the model"
   ]
  },
  {
   "cell_type": "code",
   "execution_count": 26,
   "id": "d533efdc-e176-4bfd-aa54-6b5c7a606a93",
   "metadata": {},
   "outputs": [
    {
     "name": "stdout",
     "output_type": "stream",
     "text": [
      "1/1 [==============================] - 0s 103ms/step\n",
      "Questions are similar.\n"
     ]
    }
   ],
   "source": [
    "def preprocess_question(question, word2vec_model): # first we need to preprocess the questions\n",
    "    tokens = question.lower().split()\n",
    "    vector = np.mean([word2vec_model[token] for token in tokens if token in word2vec_model], axis=0)\n",
    "    return vector\n",
    "\n",
    "new_question_1 = \"Why would I need insurance such as life?\" # example question 1\n",
    "new_question_2 = \"What is the purpose of insuring life?\" # example question 2\n",
    "\n",
    "new_question_vector_1 = preprocess_question(new_question_1, word2vec_model)\n",
    "new_question_vector_2 = preprocess_question(new_question_2, word2vec_model)\n",
    "\n",
    "new_question_vector_1 = np.expand_dims(new_question_vector_1, axis=0) # reshape to match the input expected by the model\n",
    "new_question_vector_2 = np.expand_dims(new_question_vector_2, axis=0) # reshape to match the input expected by the model\n",
    "\n",
    "similarity_score = siamese_network.predict([new_question_vector_1, new_question_vector_2]) # make prediction\n",
    "\n",
    "if similarity_score > 0.5:\n",
    "    print(\"Questions are similar.\")\n",
    "else:\n",
    "    print(\"Questions are dissimilar.\")"
   ]
  },
  {
   "cell_type": "code",
   "execution_count": 27,
   "id": "028333ac-ed6b-45f2-bf79-e6917ca21c33",
   "metadata": {},
   "outputs": [
    {
     "data": {
      "text/plain": [
       "array([[0.9907325]], dtype=float32)"
      ]
     },
     "execution_count": 27,
     "metadata": {},
     "output_type": "execute_result"
    }
   ],
   "source": [
    "similarity_score"
   ]
  }
 ],
 "metadata": {
  "kernelspec": {
   "display_name": "Python 3 (ipykernel)",
   "language": "python",
   "name": "python3"
  },
  "language_info": {
   "codemirror_mode": {
    "name": "ipython",
    "version": 3
   },
   "file_extension": ".py",
   "mimetype": "text/x-python",
   "name": "python",
   "nbconvert_exporter": "python",
   "pygments_lexer": "ipython3",
   "version": "3.9.6"
  }
 },
 "nbformat": 4,
 "nbformat_minor": 5
}
