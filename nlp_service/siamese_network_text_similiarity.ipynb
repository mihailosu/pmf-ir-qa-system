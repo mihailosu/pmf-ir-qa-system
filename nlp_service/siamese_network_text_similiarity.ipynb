{
 "cells": [
  {
   "cell_type": "code",
   "execution_count": 1,
   "id": "69db75f7-9d63-4d45-b724-2f5f30ab0a6b",
   "metadata": {},
   "outputs": [
    {
     "name": "stderr",
     "output_type": "stream",
     "text": [
      "2024-08-19 17:52:32.178118: I tensorflow/core/platform/cpu_feature_guard.cc:193] This TensorFlow binary is optimized with oneAPI Deep Neural Network Library (oneDNN) to use the following CPU instructions in performance-critical operations:  AVX2 FMA\n",
      "To enable them in other operations, rebuild TensorFlow with the appropriate compiler flags.\n"
     ]
    }
   ],
   "source": [
    "import tensorflow as tf"
   ]
  },
  {
   "cell_type": "code",
   "execution_count": 2,
   "id": "2c44e7a3-750e-41d4-922f-83feada5b142",
   "metadata": {},
   "outputs": [],
   "source": [
    "import pandas as pd\n",
    "import numpy as np"
   ]
  },
  {
   "cell_type": "markdown",
   "id": "44270d7f-c9a9-45d6-9022-d97aa194914d",
   "metadata": {},
   "source": [
    "### Loading dataset"
   ]
  },
  {
   "cell_type": "code",
   "execution_count": 3,
   "id": "4d158489-b79e-41a3-b7e7-34c993aceb2f",
   "metadata": {},
   "outputs": [],
   "source": [
    "training_dataset = pd.read_csv('preprocessing/training_dataset_final.csv')"
   ]
  },
  {
   "cell_type": "code",
   "execution_count": 4,
   "id": "b06a84f1-c3f7-4156-a453-292e707cf5cd",
   "metadata": {},
   "outputs": [
    {
     "data": {
      "text/html": [
       "<div>\n",
       "<style scoped>\n",
       "    .dataframe tbody tr th:only-of-type {\n",
       "        vertical-align: middle;\n",
       "    }\n",
       "\n",
       "    .dataframe tbody tr th {\n",
       "        vertical-align: top;\n",
       "    }\n",
       "\n",
       "    .dataframe thead th {\n",
       "        text-align: right;\n",
       "    }\n",
       "</style>\n",
       "<table border=\"1\" class=\"dataframe\">\n",
       "  <thead>\n",
       "    <tr style=\"text-align: right;\">\n",
       "      <th></th>\n",
       "      <th>Question</th>\n",
       "      <th>Similar/Dissimilar</th>\n",
       "      <th>Output</th>\n",
       "    </tr>\n",
       "  </thead>\n",
       "  <tbody>\n",
       "    <tr>\n",
       "      <th>0</th>\n",
       "      <td>Where Do You Get Disability Insurance?</td>\n",
       "      <td>Is Long Term Disability Insurance The Same As ...</td>\n",
       "      <td>0</td>\n",
       "    </tr>\n",
       "    <tr>\n",
       "      <th>1</th>\n",
       "      <td>Does Each Tenant Need Renters Insurance?</td>\n",
       "      <td>Does Your Spouse Have To Be Your Beneficiary F...</td>\n",
       "      <td>0</td>\n",
       "    </tr>\n",
       "    <tr>\n",
       "      <th>2</th>\n",
       "      <td>Can Life Insurance Refuse To Pay?</td>\n",
       "      <td>How Much Is Enough Auto Insurance Coverage?</td>\n",
       "      <td>0</td>\n",
       "    </tr>\n",
       "    <tr>\n",
       "      <th>3</th>\n",
       "      <td>Does Long Term Care Insurance Cover Assisted L...</td>\n",
       "      <td>Is Long Term Care Insurance Regulated?</td>\n",
       "      <td>0</td>\n",
       "    </tr>\n",
       "    <tr>\n",
       "      <th>4</th>\n",
       "      <td>How Do I Choose A Medigap Plan?</td>\n",
       "      <td>Can You Change From Medicare Advantage To Medi...</td>\n",
       "      <td>0</td>\n",
       "    </tr>\n",
       "    <tr>\n",
       "      <th>...</th>\n",
       "      <td>...</td>\n",
       "      <td>...</td>\n",
       "      <td>...</td>\n",
       "    </tr>\n",
       "    <tr>\n",
       "      <th>195</th>\n",
       "      <td>What To Look For In A Good Health Insurance Plan?</td>\n",
       "      <td>What Qualifies As A Quality Health Insurance P...</td>\n",
       "      <td>1</td>\n",
       "    </tr>\n",
       "    <tr>\n",
       "      <th>196</th>\n",
       "      <td>Does Suze Orman Hate Whole Life Insurance?</td>\n",
       "      <td>Is Whole Life Insurance Something Suze Orman H...</td>\n",
       "      <td>1</td>\n",
       "    </tr>\n",
       "    <tr>\n",
       "      <th>197</th>\n",
       "      <td>How Much Does It Cost To Add A Named Driver To...</td>\n",
       "      <td>What Is The Price Of Adding A Named Driver To ...</td>\n",
       "      <td>1</td>\n",
       "    </tr>\n",
       "    <tr>\n",
       "      <th>198</th>\n",
       "      <td>Is Disability Insurance The Same As Workers Co...</td>\n",
       "      <td>Is Workers Compensation and Disability Insuran...</td>\n",
       "      <td>1</td>\n",
       "    </tr>\n",
       "    <tr>\n",
       "      <th>199</th>\n",
       "      <td>When Was Universal Life Insurance Created?</td>\n",
       "      <td>When was the creation of universal life insura...</td>\n",
       "      <td>1</td>\n",
       "    </tr>\n",
       "  </tbody>\n",
       "</table>\n",
       "<p>200 rows × 3 columns</p>\n",
       "</div>"
      ],
      "text/plain": [
       "                                              Question  \\\n",
       "0               Where Do You Get Disability Insurance?   \n",
       "1             Does Each Tenant Need Renters Insurance?   \n",
       "2                    Can Life Insurance Refuse To Pay?   \n",
       "3    Does Long Term Care Insurance Cover Assisted L...   \n",
       "4                      How Do I Choose A Medigap Plan?   \n",
       "..                                                 ...   \n",
       "195  What To Look For In A Good Health Insurance Plan?   \n",
       "196         Does Suze Orman Hate Whole Life Insurance?   \n",
       "197  How Much Does It Cost To Add A Named Driver To...   \n",
       "198  Is Disability Insurance The Same As Workers Co...   \n",
       "199         When Was Universal Life Insurance Created?   \n",
       "\n",
       "                                    Similar/Dissimilar  Output  \n",
       "0    Is Long Term Disability Insurance The Same As ...       0  \n",
       "1    Does Your Spouse Have To Be Your Beneficiary F...       0  \n",
       "2          How Much Is Enough Auto Insurance Coverage?       0  \n",
       "3               Is Long Term Care Insurance Regulated?       0  \n",
       "4    Can You Change From Medicare Advantage To Medi...       0  \n",
       "..                                                 ...     ...  \n",
       "195  What Qualifies As A Quality Health Insurance P...       1  \n",
       "196  Is Whole Life Insurance Something Suze Orman H...       1  \n",
       "197  What Is The Price Of Adding A Named Driver To ...       1  \n",
       "198  Is Workers Compensation and Disability Insuran...       1  \n",
       "199  When was the creation of universal life insura...       1  \n",
       "\n",
       "[200 rows x 3 columns]"
      ]
     },
     "execution_count": 4,
     "metadata": {},
     "output_type": "execute_result"
    }
   ],
   "source": [
    "training_dataset"
   ]
  },
  {
   "cell_type": "markdown",
   "id": "001d3566-a059-40a4-a5f0-dbe907d03d74",
   "metadata": {},
   "source": [
    "### Reshuffling the dataset"
   ]
  },
  {
   "cell_type": "code",
   "execution_count": 5,
   "id": "d16c4fdd-9b2a-4a96-9b70-6b2bd2ca652a",
   "metadata": {},
   "outputs": [],
   "source": [
    "training_dataset = training_dataset.sample(frac=1, random_state=6).reset_index(drop=True)"
   ]
  },
  {
   "cell_type": "code",
   "execution_count": 6,
   "id": "736c1763-1887-44f4-b241-a971b11ecf63",
   "metadata": {},
   "outputs": [
    {
     "data": {
      "text/html": [
       "<div>\n",
       "<style scoped>\n",
       "    .dataframe tbody tr th:only-of-type {\n",
       "        vertical-align: middle;\n",
       "    }\n",
       "\n",
       "    .dataframe tbody tr th {\n",
       "        vertical-align: top;\n",
       "    }\n",
       "\n",
       "    .dataframe thead th {\n",
       "        text-align: right;\n",
       "    }\n",
       "</style>\n",
       "<table border=\"1\" class=\"dataframe\">\n",
       "  <thead>\n",
       "    <tr style=\"text-align: right;\">\n",
       "      <th></th>\n",
       "      <th>Question</th>\n",
       "      <th>Similar/Dissimilar</th>\n",
       "      <th>Output</th>\n",
       "    </tr>\n",
       "  </thead>\n",
       "  <tbody>\n",
       "    <tr>\n",
       "      <th>0</th>\n",
       "      <td>How Much Can You Borrow From Your Life Insuran...</td>\n",
       "      <td>How much of your life insurance policy may you...</td>\n",
       "      <td>1</td>\n",
       "    </tr>\n",
       "    <tr>\n",
       "      <th>1</th>\n",
       "      <td>Can I Get Life Insurance If I Have Lung Cancer?</td>\n",
       "      <td>Can The IRS Go After Life Insurance Proceeds?</td>\n",
       "      <td>0</td>\n",
       "    </tr>\n",
       "    <tr>\n",
       "      <th>2</th>\n",
       "      <td>Does Medicaid Pay Part B Of Medicare?</td>\n",
       "      <td>Does Medicaid Cover Medicare Part B?</td>\n",
       "      <td>1</td>\n",
       "    </tr>\n",
       "    <tr>\n",
       "      <th>3</th>\n",
       "      <td>Does Health Insurance Increase With Age?</td>\n",
       "      <td>Does Age Affect the Cost of Health Insurance?</td>\n",
       "      <td>1</td>\n",
       "    </tr>\n",
       "    <tr>\n",
       "      <th>4</th>\n",
       "      <td>How Much Life Insurance Should You Carry?</td>\n",
       "      <td>What Level of Life Insurance Is Adequate?</td>\n",
       "      <td>1</td>\n",
       "    </tr>\n",
       "    <tr>\n",
       "      <th>...</th>\n",
       "      <td>...</td>\n",
       "      <td>...</td>\n",
       "      <td>...</td>\n",
       "    </tr>\n",
       "    <tr>\n",
       "      <th>195</th>\n",
       "      <td>Is Disability Insurance The Same As Workers Co...</td>\n",
       "      <td>Is Workers Compensation and Disability Insuran...</td>\n",
       "      <td>1</td>\n",
       "    </tr>\n",
       "    <tr>\n",
       "      <th>196</th>\n",
       "      <td>How Much To Budget For Homeowners Insurance?</td>\n",
       "      <td>What Is Good Renters Insurance?</td>\n",
       "      <td>0</td>\n",
       "    </tr>\n",
       "    <tr>\n",
       "      <th>197</th>\n",
       "      <td>Why Is Boys Car Insurance Higher?</td>\n",
       "      <td>Why Does Boy's Auto Insurance Cost More?</td>\n",
       "      <td>1</td>\n",
       "    </tr>\n",
       "    <tr>\n",
       "      <th>198</th>\n",
       "      <td>How Much Does Life Insurance Typically Cost?</td>\n",
       "      <td>How Much Is The Average Cost of Life Insurance?</td>\n",
       "      <td>1</td>\n",
       "    </tr>\n",
       "    <tr>\n",
       "      <th>199</th>\n",
       "      <td>Who Sells Short Term Disability Insurance?</td>\n",
       "      <td>Who Offers Insurance for Short-Term Disability?</td>\n",
       "      <td>1</td>\n",
       "    </tr>\n",
       "  </tbody>\n",
       "</table>\n",
       "<p>200 rows × 3 columns</p>\n",
       "</div>"
      ],
      "text/plain": [
       "                                              Question  \\\n",
       "0    How Much Can You Borrow From Your Life Insuran...   \n",
       "1      Can I Get Life Insurance If I Have Lung Cancer?   \n",
       "2                Does Medicaid Pay Part B Of Medicare?   \n",
       "3             Does Health Insurance Increase With Age?   \n",
       "4            How Much Life Insurance Should You Carry?   \n",
       "..                                                 ...   \n",
       "195  Is Disability Insurance The Same As Workers Co...   \n",
       "196       How Much To Budget For Homeowners Insurance?   \n",
       "197                  Why Is Boys Car Insurance Higher?   \n",
       "198       How Much Does Life Insurance Typically Cost?   \n",
       "199         Who Sells Short Term Disability Insurance?   \n",
       "\n",
       "                                    Similar/Dissimilar  Output  \n",
       "0    How much of your life insurance policy may you...       1  \n",
       "1        Can The IRS Go After Life Insurance Proceeds?       0  \n",
       "2                 Does Medicaid Cover Medicare Part B?       1  \n",
       "3        Does Age Affect the Cost of Health Insurance?       1  \n",
       "4            What Level of Life Insurance Is Adequate?       1  \n",
       "..                                                 ...     ...  \n",
       "195  Is Workers Compensation and Disability Insuran...       1  \n",
       "196                    What Is Good Renters Insurance?       0  \n",
       "197           Why Does Boy's Auto Insurance Cost More?       1  \n",
       "198    How Much Is The Average Cost of Life Insurance?       1  \n",
       "199    Who Offers Insurance for Short-Term Disability?       1  \n",
       "\n",
       "[200 rows x 3 columns]"
      ]
     },
     "execution_count": 6,
     "metadata": {},
     "output_type": "execute_result"
    }
   ],
   "source": [
    "training_dataset"
   ]
  },
  {
   "cell_type": "markdown",
   "id": "15aec63c-8938-44d2-a38b-4c417a9f17ed",
   "metadata": {},
   "source": [
    "### Text preprocess"
   ]
  },
  {
   "cell_type": "code",
   "execution_count": 7,
   "id": "ab14c723-1d69-4a4d-b2d1-4b623af13c1f",
   "metadata": {},
   "outputs": [],
   "source": [
    "from gensim.utils import simple_preprocess # preprocess to tokenize and remove punctuation"
   ]
  },
  {
   "cell_type": "code",
   "execution_count": 8,
   "id": "c0de6d8e-2ee2-4ff9-b034-a601d68b747b",
   "metadata": {},
   "outputs": [],
   "source": [
    "def preprocess_text(text):\n",
    "    return simple_preprocess(text, deacc=True)  # tokenize and remove punctuation"
   ]
  },
  {
   "cell_type": "code",
   "execution_count": 9,
   "id": "3b355694-7c02-4679-8133-b9781bda4dea",
   "metadata": {},
   "outputs": [],
   "source": [
    "training_dataset['Question_processed'] = training_dataset['Question'].apply(preprocess_text)\n",
    "training_dataset['Similar/Dissimilar_processed'] = training_dataset['Similar/Dissimilar'].apply(preprocess_text)"
   ]
  },
  {
   "cell_type": "code",
   "execution_count": 10,
   "id": "80977bdf-1bff-45f7-aa8f-10a0398d7991",
   "metadata": {},
   "outputs": [
    {
     "data": {
      "text/html": [
       "<div>\n",
       "<style scoped>\n",
       "    .dataframe tbody tr th:only-of-type {\n",
       "        vertical-align: middle;\n",
       "    }\n",
       "\n",
       "    .dataframe tbody tr th {\n",
       "        vertical-align: top;\n",
       "    }\n",
       "\n",
       "    .dataframe thead th {\n",
       "        text-align: right;\n",
       "    }\n",
       "</style>\n",
       "<table border=\"1\" class=\"dataframe\">\n",
       "  <thead>\n",
       "    <tr style=\"text-align: right;\">\n",
       "      <th></th>\n",
       "      <th>Question</th>\n",
       "      <th>Similar/Dissimilar</th>\n",
       "      <th>Output</th>\n",
       "      <th>Question_processed</th>\n",
       "      <th>Similar/Dissimilar_processed</th>\n",
       "    </tr>\n",
       "  </thead>\n",
       "  <tbody>\n",
       "    <tr>\n",
       "      <th>0</th>\n",
       "      <td>How Much Can You Borrow From Your Life Insuran...</td>\n",
       "      <td>How much of your life insurance policy may you...</td>\n",
       "      <td>1</td>\n",
       "      <td>[how, much, can, you, borrow, from, your, life...</td>\n",
       "      <td>[how, much, of, your, life, insurance, policy,...</td>\n",
       "    </tr>\n",
       "    <tr>\n",
       "      <th>1</th>\n",
       "      <td>Can I Get Life Insurance If I Have Lung Cancer?</td>\n",
       "      <td>Can The IRS Go After Life Insurance Proceeds?</td>\n",
       "      <td>0</td>\n",
       "      <td>[can, get, life, insurance, if, have, lung, ca...</td>\n",
       "      <td>[can, the, irs, go, after, life, insurance, pr...</td>\n",
       "    </tr>\n",
       "    <tr>\n",
       "      <th>2</th>\n",
       "      <td>Does Medicaid Pay Part B Of Medicare?</td>\n",
       "      <td>Does Medicaid Cover Medicare Part B?</td>\n",
       "      <td>1</td>\n",
       "      <td>[does, medicaid, pay, part, of, medicare]</td>\n",
       "      <td>[does, medicaid, cover, medicare, part]</td>\n",
       "    </tr>\n",
       "    <tr>\n",
       "      <th>3</th>\n",
       "      <td>Does Health Insurance Increase With Age?</td>\n",
       "      <td>Does Age Affect the Cost of Health Insurance?</td>\n",
       "      <td>1</td>\n",
       "      <td>[does, health, insurance, increase, with, age]</td>\n",
       "      <td>[does, age, affect, the, cost, of, health, ins...</td>\n",
       "    </tr>\n",
       "    <tr>\n",
       "      <th>4</th>\n",
       "      <td>How Much Life Insurance Should You Carry?</td>\n",
       "      <td>What Level of Life Insurance Is Adequate?</td>\n",
       "      <td>1</td>\n",
       "      <td>[how, much, life, insurance, should, you, carry]</td>\n",
       "      <td>[what, level, of, life, insurance, is, adequate]</td>\n",
       "    </tr>\n",
       "    <tr>\n",
       "      <th>...</th>\n",
       "      <td>...</td>\n",
       "      <td>...</td>\n",
       "      <td>...</td>\n",
       "      <td>...</td>\n",
       "      <td>...</td>\n",
       "    </tr>\n",
       "    <tr>\n",
       "      <th>195</th>\n",
       "      <td>Is Disability Insurance The Same As Workers Co...</td>\n",
       "      <td>Is Workers Compensation and Disability Insuran...</td>\n",
       "      <td>1</td>\n",
       "      <td>[is, disability, insurance, the, same, as, wor...</td>\n",
       "      <td>[is, workers, compensation, and, disability, i...</td>\n",
       "    </tr>\n",
       "    <tr>\n",
       "      <th>196</th>\n",
       "      <td>How Much To Budget For Homeowners Insurance?</td>\n",
       "      <td>What Is Good Renters Insurance?</td>\n",
       "      <td>0</td>\n",
       "      <td>[how, much, to, budget, for, homeowners, insur...</td>\n",
       "      <td>[what, is, good, renters, insurance]</td>\n",
       "    </tr>\n",
       "    <tr>\n",
       "      <th>197</th>\n",
       "      <td>Why Is Boys Car Insurance Higher?</td>\n",
       "      <td>Why Does Boy's Auto Insurance Cost More?</td>\n",
       "      <td>1</td>\n",
       "      <td>[why, is, boys, car, insurance, higher]</td>\n",
       "      <td>[why, does, boy, auto, insurance, cost, more]</td>\n",
       "    </tr>\n",
       "    <tr>\n",
       "      <th>198</th>\n",
       "      <td>How Much Does Life Insurance Typically Cost?</td>\n",
       "      <td>How Much Is The Average Cost of Life Insurance?</td>\n",
       "      <td>1</td>\n",
       "      <td>[how, much, does, life, insurance, typically, ...</td>\n",
       "      <td>[how, much, is, the, average, cost, of, life, ...</td>\n",
       "    </tr>\n",
       "    <tr>\n",
       "      <th>199</th>\n",
       "      <td>Who Sells Short Term Disability Insurance?</td>\n",
       "      <td>Who Offers Insurance for Short-Term Disability?</td>\n",
       "      <td>1</td>\n",
       "      <td>[who, sells, short, term, disability, insurance]</td>\n",
       "      <td>[who, offers, insurance, for, short, term, dis...</td>\n",
       "    </tr>\n",
       "  </tbody>\n",
       "</table>\n",
       "<p>200 rows × 5 columns</p>\n",
       "</div>"
      ],
      "text/plain": [
       "                                              Question  \\\n",
       "0    How Much Can You Borrow From Your Life Insuran...   \n",
       "1      Can I Get Life Insurance If I Have Lung Cancer?   \n",
       "2                Does Medicaid Pay Part B Of Medicare?   \n",
       "3             Does Health Insurance Increase With Age?   \n",
       "4            How Much Life Insurance Should You Carry?   \n",
       "..                                                 ...   \n",
       "195  Is Disability Insurance The Same As Workers Co...   \n",
       "196       How Much To Budget For Homeowners Insurance?   \n",
       "197                  Why Is Boys Car Insurance Higher?   \n",
       "198       How Much Does Life Insurance Typically Cost?   \n",
       "199         Who Sells Short Term Disability Insurance?   \n",
       "\n",
       "                                    Similar/Dissimilar  Output  \\\n",
       "0    How much of your life insurance policy may you...       1   \n",
       "1        Can The IRS Go After Life Insurance Proceeds?       0   \n",
       "2                 Does Medicaid Cover Medicare Part B?       1   \n",
       "3        Does Age Affect the Cost of Health Insurance?       1   \n",
       "4            What Level of Life Insurance Is Adequate?       1   \n",
       "..                                                 ...     ...   \n",
       "195  Is Workers Compensation and Disability Insuran...       1   \n",
       "196                    What Is Good Renters Insurance?       0   \n",
       "197           Why Does Boy's Auto Insurance Cost More?       1   \n",
       "198    How Much Is The Average Cost of Life Insurance?       1   \n",
       "199    Who Offers Insurance for Short-Term Disability?       1   \n",
       "\n",
       "                                    Question_processed  \\\n",
       "0    [how, much, can, you, borrow, from, your, life...   \n",
       "1    [can, get, life, insurance, if, have, lung, ca...   \n",
       "2            [does, medicaid, pay, part, of, medicare]   \n",
       "3       [does, health, insurance, increase, with, age]   \n",
       "4     [how, much, life, insurance, should, you, carry]   \n",
       "..                                                 ...   \n",
       "195  [is, disability, insurance, the, same, as, wor...   \n",
       "196  [how, much, to, budget, for, homeowners, insur...   \n",
       "197            [why, is, boys, car, insurance, higher]   \n",
       "198  [how, much, does, life, insurance, typically, ...   \n",
       "199   [who, sells, short, term, disability, insurance]   \n",
       "\n",
       "                          Similar/Dissimilar_processed  \n",
       "0    [how, much, of, your, life, insurance, policy,...  \n",
       "1    [can, the, irs, go, after, life, insurance, pr...  \n",
       "2              [does, medicaid, cover, medicare, part]  \n",
       "3    [does, age, affect, the, cost, of, health, ins...  \n",
       "4     [what, level, of, life, insurance, is, adequate]  \n",
       "..                                                 ...  \n",
       "195  [is, workers, compensation, and, disability, i...  \n",
       "196               [what, is, good, renters, insurance]  \n",
       "197      [why, does, boy, auto, insurance, cost, more]  \n",
       "198  [how, much, is, the, average, cost, of, life, ...  \n",
       "199  [who, offers, insurance, for, short, term, dis...  \n",
       "\n",
       "[200 rows x 5 columns]"
      ]
     },
     "execution_count": 10,
     "metadata": {},
     "output_type": "execute_result"
    }
   ],
   "source": [
    "training_dataset"
   ]
  },
  {
   "cell_type": "markdown",
   "id": "2a39022f-f05c-41b5-8e74-6da6a9d9616a",
   "metadata": {},
   "source": [
    "### Load a Word2Vec Model"
   ]
  },
  {
   "cell_type": "code",
   "execution_count": 11,
   "id": "d9e0f7c3-7e62-4b59-ad05-8484a2195b46",
   "metadata": {},
   "outputs": [],
   "source": [
    "import torch\n",
    "import torchtext"
   ]
  },
  {
   "cell_type": "code",
   "execution_count": 12,
   "id": "8769adf1-15d3-4a96-95d4-379243864919",
   "metadata": {},
   "outputs": [],
   "source": [
    "# For our project we are using pretrained GloVe 6B embeddings to convert text to vectors. Additionally, we are using torchtext as\n",
    "# it enables automatic model download (there is no need for user to first download the embedding model and then import it -> \n",
    "# as everything is done through torchtext.)\n",
    "# For more information please look at: https://nlp.stanford.edu/projects/glove/ \n",
    "glove = torchtext.vocab.GloVe(name=\"6B\", dim=50) # load glove embeddings"
   ]
  },
  {
   "cell_type": "markdown",
   "id": "52516821-5714-4e8c-9560-301f5bc9c22d",
   "metadata": {},
   "source": [
    "### Transform Text to Vectors"
   ]
  },
  {
   "cell_type": "code",
   "execution_count": 13,
   "id": "d7baf3b9-bcb5-41b2-bc91-0a08ce0ce86d",
   "metadata": {},
   "outputs": [],
   "source": [
    "def get_average_vector(tokens, glove): # function to vectorize words\n",
    "    vectors = [glove[token] for token in tokens if token in glove.stoi]\n",
    "    if len(vectors) == 0:\n",
    "        return torch.zeros(glove.dim)\n",
    "    return torch.mean(torch.stack(vectors), dim=0)"
   ]
  },
  {
   "cell_type": "code",
   "execution_count": 14,
   "id": "226d380c-3a58-4b5e-b8b8-7ebfcd3efbef",
   "metadata": {},
   "outputs": [],
   "source": [
    "training_dataset['Question_vector'] = training_dataset['Question_processed'].apply(lambda x: get_average_vector(x, glove).numpy()) # apply function to training_dataset\n",
    "training_dataset['Similar/Dissimilar_vector'] = training_dataset['Similar/Dissimilar_processed'].apply(lambda x: get_average_vector(x, glove).numpy()) # apply function to training_dataset"
   ]
  },
  {
   "cell_type": "code",
   "execution_count": 15,
   "id": "cd4286fd-096e-4fe7-9b67-79ffbd0f05d2",
   "metadata": {},
   "outputs": [],
   "source": [
    "def vectors_to_dataframe(vectors): # convert vectors to dataframe\n",
    "    return pd.DataFrame(vectors.tolist())"
   ]
  },
  {
   "cell_type": "code",
   "execution_count": 16,
   "id": "8ce6e339-0e89-4213-b5fe-6eb9bc879df6",
   "metadata": {},
   "outputs": [
    {
     "data": {
      "text/html": [
       "<div>\n",
       "<style scoped>\n",
       "    .dataframe tbody tr th:only-of-type {\n",
       "        vertical-align: middle;\n",
       "    }\n",
       "\n",
       "    .dataframe tbody tr th {\n",
       "        vertical-align: top;\n",
       "    }\n",
       "\n",
       "    .dataframe thead th {\n",
       "        text-align: right;\n",
       "    }\n",
       "</style>\n",
       "<table border=\"1\" class=\"dataframe\">\n",
       "  <thead>\n",
       "    <tr style=\"text-align: right;\">\n",
       "      <th></th>\n",
       "      <th>Question_vector</th>\n",
       "      <th>Similar/Dissimilar_vector</th>\n",
       "      <th>Output</th>\n",
       "    </tr>\n",
       "  </thead>\n",
       "  <tbody>\n",
       "    <tr>\n",
       "      <th>0</th>\n",
       "      <td>[0.28812653, 0.2274698, 0.19684939, -0.545717,...</td>\n",
       "      <td>[0.30790251, 0.2583558, 0.0973037, -0.49393648...</td>\n",
       "      <td>1</td>\n",
       "    </tr>\n",
       "    <tr>\n",
       "      <th>1</th>\n",
       "      <td>[0.67015374, 0.26997185, 0.31989124, -0.147379...</td>\n",
       "      <td>[0.5123538, 0.0009334907, 0.13336125, -0.23812...</td>\n",
       "      <td>0</td>\n",
       "    </tr>\n",
       "    <tr>\n",
       "      <th>2</th>\n",
       "      <td>[0.6226233, 0.16583666, 0.3080945, -0.54152125...</td>\n",
       "      <td>[0.44956, 0.064194, 0.31548738, -0.69372547, -...</td>\n",
       "      <td>1</td>\n",
       "    </tr>\n",
       "    <tr>\n",
       "      <th>3</th>\n",
       "      <td>[0.12134666, 0.39845085, 0.18691649, -0.242108...</td>\n",
       "      <td>[0.34949002, 0.32901913, 0.05321388, -0.104091...</td>\n",
       "      <td>1</td>\n",
       "    </tr>\n",
       "    <tr>\n",
       "      <th>4</th>\n",
       "      <td>[0.38764402, 0.14816228, 0.18771395, -0.411626...</td>\n",
       "      <td>[0.33797142, 0.42630515, -0.14697286, -0.19512...</td>\n",
       "      <td>1</td>\n",
       "    </tr>\n",
       "    <tr>\n",
       "      <th>...</th>\n",
       "      <td>...</td>\n",
       "      <td>...</td>\n",
       "      <td>...</td>\n",
       "    </tr>\n",
       "    <tr>\n",
       "      <th>195</th>\n",
       "      <td>[0.26646873, 0.22621801, -0.04992786, -0.14544...</td>\n",
       "      <td>[0.24260385, 0.22555597, -0.07302366, -0.09749...</td>\n",
       "      <td>1</td>\n",
       "    </tr>\n",
       "    <tr>\n",
       "      <th>196</th>\n",
       "      <td>[0.3980972, -0.031579573, 0.38514715, -0.37014...</td>\n",
       "      <td>[0.231132, 0.21420917, 0.17862001, -0.286443, ...</td>\n",
       "      <td>0</td>\n",
       "    </tr>\n",
       "    <tr>\n",
       "      <th>197</th>\n",
       "      <td>[0.032586653, 0.24190617, 0.31103167, -0.26572...</td>\n",
       "      <td>[0.2854986, 0.06919169, 0.40158528, -0.1103902...</td>\n",
       "      <td>1</td>\n",
       "    </tr>\n",
       "    <tr>\n",
       "      <th>198</th>\n",
       "      <td>[0.47669145, 0.19837439, 0.18423386, -0.328741...</td>\n",
       "      <td>[0.35991, 0.31689233, 0.10101666, -0.1893761, ...</td>\n",
       "      <td>1</td>\n",
       "    </tr>\n",
       "    <tr>\n",
       "      <th>199</th>\n",
       "      <td>[-0.07102666, 0.389933, 0.10307834, -0.3461891...</td>\n",
       "      <td>[0.01219715, 0.56692255, -0.06935143, -0.32683...</td>\n",
       "      <td>1</td>\n",
       "    </tr>\n",
       "  </tbody>\n",
       "</table>\n",
       "<p>200 rows × 3 columns</p>\n",
       "</div>"
      ],
      "text/plain": [
       "                                       Question_vector  \\\n",
       "0    [0.28812653, 0.2274698, 0.19684939, -0.545717,...   \n",
       "1    [0.67015374, 0.26997185, 0.31989124, -0.147379...   \n",
       "2    [0.6226233, 0.16583666, 0.3080945, -0.54152125...   \n",
       "3    [0.12134666, 0.39845085, 0.18691649, -0.242108...   \n",
       "4    [0.38764402, 0.14816228, 0.18771395, -0.411626...   \n",
       "..                                                 ...   \n",
       "195  [0.26646873, 0.22621801, -0.04992786, -0.14544...   \n",
       "196  [0.3980972, -0.031579573, 0.38514715, -0.37014...   \n",
       "197  [0.032586653, 0.24190617, 0.31103167, -0.26572...   \n",
       "198  [0.47669145, 0.19837439, 0.18423386, -0.328741...   \n",
       "199  [-0.07102666, 0.389933, 0.10307834, -0.3461891...   \n",
       "\n",
       "                             Similar/Dissimilar_vector  Output  \n",
       "0    [0.30790251, 0.2583558, 0.0973037, -0.49393648...       1  \n",
       "1    [0.5123538, 0.0009334907, 0.13336125, -0.23812...       0  \n",
       "2    [0.44956, 0.064194, 0.31548738, -0.69372547, -...       1  \n",
       "3    [0.34949002, 0.32901913, 0.05321388, -0.104091...       1  \n",
       "4    [0.33797142, 0.42630515, -0.14697286, -0.19512...       1  \n",
       "..                                                 ...     ...  \n",
       "195  [0.24260385, 0.22555597, -0.07302366, -0.09749...       1  \n",
       "196  [0.231132, 0.21420917, 0.17862001, -0.286443, ...       0  \n",
       "197  [0.2854986, 0.06919169, 0.40158528, -0.1103902...       1  \n",
       "198  [0.35991, 0.31689233, 0.10101666, -0.1893761, ...       1  \n",
       "199  [0.01219715, 0.56692255, -0.06935143, -0.32683...       1  \n",
       "\n",
       "[200 rows x 3 columns]"
      ]
     },
     "execution_count": 16,
     "metadata": {},
     "output_type": "execute_result"
    }
   ],
   "source": [
    "question_vectors_df = vectors_to_dataframe(training_dataset['Question_vector'])\n",
    "similar_dissimilar_vectors_df = vectors_to_dataframe(training_dataset['Similar/Dissimilar_vector'])\n",
    "\n",
    "training_dataset_with_vectors = pd.concat([training_dataset, question_vectors_df, similar_dissimilar_vectors_df], axis=1) # concat with training_dataset\n",
    "\n",
    "training_dataset_with_vectors.drop(['Question_processed', 'Similar/Dissimilar_processed'], axis=1, inplace=True) # drop unnecessary columns\n",
    "\n",
    "training_dataset_for_siamese = training_dataset_with_vectors[['Question_vector', 'Similar/Dissimilar_vector', 'Output']] # finalize\n",
    "\n",
    "training_dataset_for_siamese # display result"
   ]
  },
  {
   "cell_type": "code",
   "execution_count": 17,
   "id": "9c8a6d5e-3788-4467-8024-9001cd24d245",
   "metadata": {},
   "outputs": [
    {
     "name": "stderr",
     "output_type": "stream",
     "text": [
      "/var/folders/l5/vt4s9nzd5zs4k5xmmxjxh1_w0000gn/T/ipykernel_2150/339703309.py:1: FutureWarning: Series.__getitem__ treating keys as positions is deprecated. In a future version, integer keys will always be treated as labels (consistent with DataFrame behavior). To access a value by position, use `ser.iloc[pos]`\n",
      "  training_dataset_for_siamese.iloc[150][1].shape # we explore one item in our vectorized dataset\n"
     ]
    },
    {
     "data": {
      "text/plain": [
       "(50,)"
      ]
     },
     "execution_count": 17,
     "metadata": {},
     "output_type": "execute_result"
    }
   ],
   "source": [
    "training_dataset_for_siamese.iloc[150][1].shape # we explore one item in our vectorized dataset"
   ]
  },
  {
   "cell_type": "code",
   "execution_count": 18,
   "id": "2035e5f4-9fc9-4ef5-a4f2-d2e57ca8faeb",
   "metadata": {},
   "outputs": [
    {
     "name": "stderr",
     "output_type": "stream",
     "text": [
      "/var/folders/l5/vt4s9nzd5zs4k5xmmxjxh1_w0000gn/T/ipykernel_2150/1337258343.py:1: FutureWarning: Series.__getitem__ treating keys as positions is deprecated. In a future version, integer keys will always be treated as labels (consistent with DataFrame behavior). To access a value by position, use `ser.iloc[pos]`\n",
      "  training_dataset_for_siamese.iloc[150][1]\n"
     ]
    },
    {
     "data": {
      "text/plain": [
       "array([-0.17933333, -0.10147534,  0.18743402, -0.21102583,  0.01232166,\n",
       "        0.6412217 , -0.47169337,  0.05470333, -0.08384169, -0.09460516,\n",
       "        0.07728234, -0.09917001, -0.20543166, -0.55879587,  0.29825333,\n",
       "       -0.16700651, -0.13086666, -0.38785684, -0.23403831, -0.15059249,\n",
       "        0.08428668,  0.03945167, -0.22466166, -0.3223285 , -0.3710867 ,\n",
       "       -1.678175  , -0.06977499, -0.6348116 , -0.0467625 ,  0.16582318,\n",
       "        2.9077165 ,  0.5382917 ,  0.13232799, -0.195625  , -0.00819833,\n",
       "       -0.21665515, -0.213857  , -0.04207051,  0.43313834, -0.56421834,\n",
       "       -0.32458502, -0.01141934,  0.37367332,  0.5844733 , -0.10996483,\n",
       "       -0.42139414, -0.44689813,  0.14413601,  0.23335999, -0.04724183],\n",
       "      dtype=float32)"
      ]
     },
     "execution_count": 18,
     "metadata": {},
     "output_type": "execute_result"
    }
   ],
   "source": [
    "training_dataset_for_siamese.iloc[150][1]"
   ]
  },
  {
   "cell_type": "markdown",
   "id": "bc84d8c3-3c8a-423a-87f5-9acd68fe8325",
   "metadata": {},
   "source": [
    "### Modeling"
   ]
  },
  {
   "cell_type": "code",
   "execution_count": 19,
   "id": "bc6c17f8-8efa-49c0-b9e7-3ae9711cfeb2",
   "metadata": {},
   "outputs": [],
   "source": [
    "from tensorflow.keras.layers import Input, Dense, Subtract, Multiply, Lambda\n",
    "from tensorflow.keras.models import Model, Sequential"
   ]
  },
  {
   "cell_type": "markdown",
   "id": "796e1418-a4a5-4280-ad9c-c9dadb0b744c",
   "metadata": {},
   "source": [
    "### Define the Base Network"
   ]
  },
  {
   "cell_type": "code",
   "execution_count": 20,
   "id": "eac92817-a732-4087-a6ef-669e2b57192c",
   "metadata": {},
   "outputs": [],
   "source": [
    "def create_base_network(input_shape):\n",
    "    model = Sequential()\n",
    "    model.add(Input(shape=input_shape))\n",
    "    model.add(Dense(128, activation='relu'))\n",
    "    model.add(Dense(128, activation='relu'))\n",
    "    model.add(Dense(128, activation='relu'))\n",
    "    return model"
   ]
  },
  {
   "cell_type": "markdown",
   "id": "bd48277f-8c46-4710-8001-68639e8061f5",
   "metadata": {},
   "source": [
    "### Define the Siamese Network"
   ]
  },
  {
   "cell_type": "code",
   "execution_count": 21,
   "id": "f5c1c983-b514-493f-b438-ddb569ec3796",
   "metadata": {},
   "outputs": [],
   "source": [
    "# Siamese neural network for text similiarity inspired by: https://medium.com/@prabhnoor0212/siamese-network-keras-31a3a8f37d04\n",
    "# Layers diff and prod added for complexity (helps neural network to determine whether two given vectors are similiar)\n",
    "def create_siamese_network(input_shape):\n",
    "    input_a = Input(shape=input_shape) # tensor for the input vector a\n",
    "    input_b = Input(shape=input_shape) # tensor for the input vector b\n",
    "     \n",
    "    base_network = create_base_network(input_shape) # base network which shares weights\n",
    "    \n",
    "    processed_a = base_network(input_a) # processing of input a through the base network\n",
    "    processed_b = base_network(input_b) # processing of input b through the base network\n",
    "\n",
    "    # now we need to capture the relationship between the two input vectors\n",
    "    diff = Subtract()([processed_a, processed_b]) # element wise absolute difference between the processed vectors\n",
    "    prod = Multiply()([processed_a, processed_b]) # element wise product of the processed vectors\n",
    "    concat = tf.keras.layers.Concatenate()([diff, prod]) # concatenating the difference and product (to consider them both)\n",
    "    \n",
    "    final_network = Sequential() # defining the final part of the network\n",
    "    final_network.add(Dense(128, activation='relu', input_shape=(concat.shape[-1],)))  # dense layer\n",
    "    final_network.add(Dense(128, activation='relu'))  # dense layer\n",
    "    final_network.add(Dense(1, activation='sigmoid'))  # final sigmoid layer for output\n",
    "\n",
    "    output = final_network(concat) # output layer\n",
    "\n",
    "    siamese_network = Model(inputs=[input_a, input_b], outputs=output) # creating the siamese network model\n",
    "    return siamese_network"
   ]
  },
  {
   "cell_type": "markdown",
   "id": "fafa15df-3943-4339-bcb6-070ad27d92af",
   "metadata": {},
   "source": [
    "### Compile the Model"
   ]
  },
  {
   "cell_type": "code",
   "execution_count": 22,
   "id": "21000880-1e9e-4e55-b3f7-804d651d2a86",
   "metadata": {},
   "outputs": [
    {
     "name": "stderr",
     "output_type": "stream",
     "text": [
      "2024-08-19 17:52:48.100013: I tensorflow/core/platform/cpu_feature_guard.cc:193] This TensorFlow binary is optimized with oneAPI Deep Neural Network Library (oneDNN) to use the following CPU instructions in performance-critical operations:  AVX2 FMA\n",
      "To enable them in other operations, rebuild TensorFlow with the appropriate compiler flags.\n"
     ]
    },
    {
     "name": "stdout",
     "output_type": "stream",
     "text": [
      "Model: \"model\"\n",
      "__________________________________________________________________________________________________\n",
      " Layer (type)                   Output Shape         Param #     Connected to                     \n",
      "==================================================================================================\n",
      " input_1 (InputLayer)           [(None, 50)]         0           []                               \n",
      "                                                                                                  \n",
      " input_2 (InputLayer)           [(None, 50)]         0           []                               \n",
      "                                                                                                  \n",
      " sequential (Sequential)        (None, 128)          39552       ['input_1[0][0]',                \n",
      "                                                                  'input_2[0][0]']                \n",
      "                                                                                                  \n",
      " subtract (Subtract)            (None, 128)          0           ['sequential[0][0]',             \n",
      "                                                                  'sequential[1][0]']             \n",
      "                                                                                                  \n",
      " multiply (Multiply)            (None, 128)          0           ['sequential[0][0]',             \n",
      "                                                                  'sequential[1][0]']             \n",
      "                                                                                                  \n",
      " concatenate (Concatenate)      (None, 256)          0           ['subtract[0][0]',               \n",
      "                                                                  'multiply[0][0]']               \n",
      "                                                                                                  \n",
      " sequential_1 (Sequential)      (None, 1)            49537       ['concatenate[0][0]']            \n",
      "                                                                                                  \n",
      "==================================================================================================\n",
      "Total params: 89,089\n",
      "Trainable params: 89,089\n",
      "Non-trainable params: 0\n",
      "__________________________________________________________________________________________________\n"
     ]
    }
   ],
   "source": [
    "input_shape = (50,) # vector length of 50 (since we are using torchtext.vocab.GloVe(name=\"6B\", dim=50))\n",
    "siamese_network = create_siamese_network(input_shape)\n",
    "siamese_network.compile(optimizer='adam', loss='binary_crossentropy', metrics=['accuracy'])\n",
    "siamese_network.summary()"
   ]
  },
  {
   "cell_type": "markdown",
   "id": "2fc27359-50ff-4228-84ca-4f2829a5c496",
   "metadata": {},
   "source": [
    "### Prepare dataset for training"
   ]
  },
  {
   "cell_type": "code",
   "execution_count": 23,
   "id": "31453877-f6b2-439c-b8be-2462dd111c61",
   "metadata": {},
   "outputs": [],
   "source": [
    "from sklearn.model_selection import train_test_split"
   ]
  },
  {
   "cell_type": "code",
   "execution_count": 24,
   "id": "22240016-e668-42b7-b478-0116aa586579",
   "metadata": {},
   "outputs": [],
   "source": [
    "question_vectors = np.array(training_dataset_for_siamese['Question_vector'].tolist()) # extract question vectors\n",
    "similar_vectors = np.array(training_dataset_for_siamese['Similar/Dissimilar_vector'].tolist()) # extract similar/dissimilar vectors\n",
    "labels = np.array(training_dataset_for_siamese['Output'].tolist()) # extract labels\n",
    "\n",
    "X_train_q, X_val_q, X_train_s, X_val_s, y_train, y_val = train_test_split(\n",
    "    question_vectors, similar_vectors, labels, test_size=0.2, random_state=33) # split the dataset into training and validation sets\n",
    "\n",
    "X_train_1 = np.array(X_train_q)\n",
    "X_train_2 = np.array(X_train_s)\n",
    "X_val_1 = np.array(X_val_q)\n",
    "X_val_2 = np.array(X_val_s)"
   ]
  },
  {
   "cell_type": "markdown",
   "id": "406ecad8-c96e-40ee-a957-880c4556e426",
   "metadata": {},
   "source": [
    "### Train the model"
   ]
  },
  {
   "cell_type": "code",
   "execution_count": 25,
   "id": "1fa87caf-f057-46bf-9f29-1d35c99a8c4b",
   "metadata": {},
   "outputs": [
    {
     "name": "stdout",
     "output_type": "stream",
     "text": [
      "Epoch 1/20\n",
      "5/5 [==============================] - 1s 64ms/step - loss: 0.6881 - accuracy: 0.5500 - val_loss: 0.6954 - val_accuracy: 0.3500\n",
      "Epoch 2/20\n",
      "5/5 [==============================] - 0s 7ms/step - loss: 0.6649 - accuracy: 0.5500 - val_loss: 0.7027 - val_accuracy: 0.3250\n",
      "Epoch 3/20\n",
      "5/5 [==============================] - 0s 7ms/step - loss: 0.6381 - accuracy: 0.5562 - val_loss: 0.6944 - val_accuracy: 0.4500\n",
      "Epoch 4/20\n",
      "5/5 [==============================] - 0s 7ms/step - loss: 0.5939 - accuracy: 0.7000 - val_loss: 0.6691 - val_accuracy: 0.5750\n",
      "Epoch 5/20\n",
      "5/5 [==============================] - 0s 7ms/step - loss: 0.5391 - accuracy: 0.7875 - val_loss: 0.6068 - val_accuracy: 0.7000\n",
      "Epoch 6/20\n",
      "5/5 [==============================] - 0s 6ms/step - loss: 0.4626 - accuracy: 0.8438 - val_loss: 0.5865 - val_accuracy: 0.7500\n",
      "Epoch 7/20\n",
      "5/5 [==============================] - 0s 6ms/step - loss: 0.3870 - accuracy: 0.8813 - val_loss: 0.5321 - val_accuracy: 0.8000\n",
      "Epoch 8/20\n",
      "5/5 [==============================] - 0s 6ms/step - loss: 0.3368 - accuracy: 0.8813 - val_loss: 0.4596 - val_accuracy: 0.8250\n",
      "Epoch 9/20\n",
      "5/5 [==============================] - 0s 7ms/step - loss: 0.2637 - accuracy: 0.9125 - val_loss: 0.4830 - val_accuracy: 0.7750\n",
      "Epoch 10/20\n",
      "5/5 [==============================] - 0s 6ms/step - loss: 0.1921 - accuracy: 0.9250 - val_loss: 0.4739 - val_accuracy: 0.8000\n",
      "Epoch 11/20\n",
      "5/5 [==============================] - 0s 7ms/step - loss: 0.1440 - accuracy: 0.9563 - val_loss: 0.4911 - val_accuracy: 0.7750\n",
      "Epoch 12/20\n",
      "5/5 [==============================] - 0s 7ms/step - loss: 0.1006 - accuracy: 0.9625 - val_loss: 0.5139 - val_accuracy: 0.8250\n",
      "Epoch 13/20\n",
      "5/5 [==============================] - 0s 7ms/step - loss: 0.0676 - accuracy: 0.9812 - val_loss: 0.5264 - val_accuracy: 0.8250\n",
      "Epoch 14/20\n",
      "5/5 [==============================] - 0s 8ms/step - loss: 0.0450 - accuracy: 0.9875 - val_loss: 0.5433 - val_accuracy: 0.8500\n",
      "Epoch 15/20\n",
      "5/5 [==============================] - 0s 6ms/step - loss: 0.0286 - accuracy: 0.9937 - val_loss: 0.5643 - val_accuracy: 0.8500\n",
      "Epoch 16/20\n",
      "5/5 [==============================] - 0s 6ms/step - loss: 0.0174 - accuracy: 1.0000 - val_loss: 0.6069 - val_accuracy: 0.8750\n",
      "Epoch 17/20\n",
      "5/5 [==============================] - 0s 6ms/step - loss: 0.0112 - accuracy: 1.0000 - val_loss: 0.6853 - val_accuracy: 0.8750\n",
      "Epoch 18/20\n",
      "5/5 [==============================] - 0s 6ms/step - loss: 0.0074 - accuracy: 1.0000 - val_loss: 0.6853 - val_accuracy: 0.8500\n",
      "Epoch 19/20\n",
      "5/5 [==============================] - 0s 7ms/step - loss: 0.0054 - accuracy: 1.0000 - val_loss: 0.7345 - val_accuracy: 0.8750\n",
      "Epoch 20/20\n",
      "5/5 [==============================] - 0s 6ms/step - loss: 0.0033 - accuracy: 1.0000 - val_loss: 0.8169 - val_accuracy: 0.8750\n"
     ]
    },
    {
     "data": {
      "text/plain": [
       "<keras.callbacks.History at 0x15f4fb130>"
      ]
     },
     "execution_count": 25,
     "metadata": {},
     "output_type": "execute_result"
    }
   ],
   "source": [
    "siamese_network.fit([X_train_1, X_train_2], y_train, \n",
    "                    validation_data=([X_val_1, X_val_2], y_val), \n",
    "                    epochs=20, batch_size=32)"
   ]
  },
  {
   "cell_type": "markdown",
   "id": "25028ee2-96f4-41e5-b307-c1a8ae5c154b",
   "metadata": {},
   "source": [
    "### Evaluate the Model"
   ]
  },
  {
   "cell_type": "code",
   "execution_count": 26,
   "id": "e830ba51-fd22-4fb0-889e-a7695b43f921",
   "metadata": {},
   "outputs": [
    {
     "name": "stdout",
     "output_type": "stream",
     "text": [
      "2/2 [==============================] - 0s 2ms/step - loss: 0.8169 - accuracy: 0.8750\n",
      "Validation Loss: 0.8169072866439819\n",
      "Validation Accuracy: 0.875\n"
     ]
    }
   ],
   "source": [
    "loss, accuracy = siamese_network.evaluate([X_val_1, X_val_2], y_val)\n",
    "print(f'Validation Loss: {loss}')\n",
    "print(f'Validation Accuracy: {accuracy}')"
   ]
  },
  {
   "cell_type": "markdown",
   "id": "3d24a790-c009-413e-a8ca-946f823e64e5",
   "metadata": {},
   "source": [
    "### Save model weights"
   ]
  },
  {
   "cell_type": "code",
   "execution_count": 27,
   "id": "b4d0d4bd-af34-4f3f-948d-3c2c95ea3586",
   "metadata": {},
   "outputs": [],
   "source": [
    "siamese_network.save('model/siamese_model.h5')"
   ]
  },
  {
   "cell_type": "markdown",
   "id": "80db18b0-ddf8-40de-91d8-6aa1fed6dd80",
   "metadata": {},
   "source": [
    "### Using the model"
   ]
  },
  {
   "cell_type": "code",
   "execution_count": 28,
   "id": "d533efdc-e176-4bfd-aa54-6b5c7a606a93",
   "metadata": {},
   "outputs": [
    {
     "name": "stdout",
     "output_type": "stream",
     "text": [
      "1/1 [==============================] - 0s 114ms/step\n",
      "Questions are similar.\n"
     ]
    }
   ],
   "source": [
    "def preprocess_question(question, glove): # first we need to preprocess the questions\n",
    "    tokens = question.lower().split()\n",
    "    vectors = [glove[token] for token in tokens if token in glove.stoi]\n",
    "    if len(vectors) == 0:\n",
    "        return torch.zeros(glove.dim)  # return zero vector if no tokens are in the vocabulary\n",
    "    return torch.mean(torch.stack(vectors), dim=0)  # average the vectors\n",
    "\n",
    "new_question_1 = \"Why would I need insurance such as life?\" # example question 1\n",
    "new_question_2 = \"What is the purpose of insuring life?\" # example question 2\n",
    "\n",
    "new_question_vector_1 = preprocess_question(new_question_1, glove)\n",
    "new_question_vector_2 = preprocess_question(new_question_2, glove)\n",
    "\n",
    "new_question_vector_1 = np.expand_dims(new_question_vector_1, axis=0) # reshape to match the input expected by the model\n",
    "new_question_vector_2 = np.expand_dims(new_question_vector_2, axis=0) # reshape to match the input expected by the model\n",
    "\n",
    "similarity_score = siamese_network.predict([new_question_vector_1, new_question_vector_2]) # make prediction\n",
    "\n",
    "if similarity_score > 0.5:\n",
    "    print(\"Questions are similar.\")\n",
    "else:\n",
    "    print(\"Questions are dissimilar.\")"
   ]
  },
  {
   "cell_type": "code",
   "execution_count": 29,
   "id": "028333ac-ed6b-45f2-bf79-e6917ca21c33",
   "metadata": {},
   "outputs": [
    {
     "data": {
      "text/plain": [
       "array([[0.7041172]], dtype=float32)"
      ]
     },
     "execution_count": 29,
     "metadata": {},
     "output_type": "execute_result"
    }
   ],
   "source": [
    "similarity_score"
   ]
  }
 ],
 "metadata": {
  "kernelspec": {
   "display_name": "Python 3 (ipykernel)",
   "language": "python",
   "name": "python3"
  },
  "language_info": {
   "codemirror_mode": {
    "name": "ipython",
    "version": 3
   },
   "file_extension": ".py",
   "mimetype": "text/x-python",
   "name": "python",
   "nbconvert_exporter": "python",
   "pygments_lexer": "ipython3",
   "version": "3.10.0"
  }
 },
 "nbformat": 4,
 "nbformat_minor": 5
}
